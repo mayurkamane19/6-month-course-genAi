{
 "cells": [
  {
   "cell_type": "code",
   "execution_count": 4,
   "id": "0c5db086-899e-4f86-a6aa-d9f0cd264792",
   "metadata": {},
   "outputs": [
    {
     "name": "stdout",
     "output_type": "stream",
     "text": [
      "hi\n"
     ]
    }
   ],
   "source": [
    "print(\"hi\")"
   ]
  },
  {
   "cell_type": "code",
   "execution_count": null,
   "id": "c311898d-a4d5-4892-8d7c-65c34b332d7a",
   "metadata": {},
   "outputs": [],
   "source": []
  },
  {
   "cell_type": "code",
   "execution_count": null,
   "id": "74e56848-cb1e-41bb-b685-d497275c3312",
   "metadata": {},
   "outputs": [],
   "source": []
  },
  {
   "cell_type": "code",
   "execution_count": 8,
   "id": "05a0095b-2706-4432-b317-2bc237422287",
   "metadata": {},
   "outputs": [
    {
     "name": "stdin",
     "output_type": "stream",
     "text": [
      "please enter leangth 4\n",
      "please enter width 2\n"
     ]
    }
   ],
   "source": [
    "a = input(\"please enter leangth\")\n",
    "b = input(\"please enter width\")"
   ]
  },
  {
   "cell_type": "code",
   "execution_count": null,
   "id": "23d27a27-0686-4370-b262-1664b93faea3",
   "metadata": {},
   "outputs": [],
   "source": []
  },
  {
   "cell_type": "code",
   "execution_count": 9,
   "id": "4db0b718-ffac-493b-8116-25b150fe337c",
   "metadata": {},
   "outputs": [
    {
     "name": "stdout",
     "output_type": "stream",
     "text": [
      "8.0\n"
     ]
    }
   ],
   "source": [
    "print(float(a)*float(b)  )"
   ]
  },
  {
   "cell_type": "code",
   "execution_count": null,
   "id": "2fab6069-73df-47c5-afbb-842d5fbcf339",
   "metadata": {},
   "outputs": [
    {
     "name": "stdin",
     "output_type": "stream",
     "text": [
      "please enter number 5\n"
     ]
    }
   ],
   "source": [
    "a = int(input(\"Enter first number: \"))\n",
    "b = int(input(\"Enter second number: \"))"
   ]
  },
  {
   "cell_type": "code",
   "execution_count": null,
   "id": "e3cf75a3-8a6f-48b9-824d-3f84c56bfdbc",
   "metadata": {},
   "outputs": [],
   "source": [
    "    print(f\"{a} is a multiple of {b}\")\n",
    "else:\n",
    "    print(f\"{a} is not a multiple of {b}\")\n"
   ]
  },
  {
   "cell_type": "code",
   "execution_count": 1,
   "id": "f6c62d84-246b-457e-a59a-e456b5abba00",
   "metadata": {},
   "outputs": [],
   "source": [
    "# python data types"
   ]
  },
  {
   "cell_type": "code",
   "execution_count": 3,
   "id": "b2d9e064-93ed-470b-ab92-eebb05730d80",
   "metadata": {},
   "outputs": [
    {
     "data": {
      "text/plain": [
       "5"
      ]
     },
     "execution_count": 3,
     "metadata": {},
     "output_type": "execute_result"
    }
   ],
   "source": [
    "i = 5\n",
    "i"
   ]
  },
  {
   "cell_type": "code",
   "execution_count": 7,
   "id": "1483eefc-bcd6-4ae8-a0a8-a36b5824e739",
   "metadata": {},
   "outputs": [
    {
     "data": {
      "text/plain": [
       "int"
      ]
     },
     "execution_count": 7,
     "metadata": {},
     "output_type": "execute_result"
    }
   ],
   "source": [
    "type(i)"
   ]
  },
  {
   "cell_type": "code",
   "execution_count": 8,
   "id": "0696e50c-6419-44aa-8ea2-0821b64c0fb3",
   "metadata": {},
   "outputs": [
    {
     "data": {
      "text/plain": [
       "110.45"
      ]
     },
     "execution_count": 8,
     "metadata": {},
     "output_type": "execute_result"
    }
   ],
   "source": [
    "f = 110.45\n",
    "f"
   ]
  },
  {
   "cell_type": "code",
   "execution_count": 9,
   "id": "95f628b9-c3ae-4441-b612-dee57598401d",
   "metadata": {},
   "outputs": [
    {
     "data": {
      "text/plain": [
       "110.45"
      ]
     },
     "execution_count": 9,
     "metadata": {},
     "output_type": "execute_result"
    }
   ],
   "source": [
    "type(f)\n",
    "f"
   ]
  },
  {
   "cell_type": "code",
   "execution_count": 10,
   "id": "1144352e-4f0c-4f25-adc4-e1c0750b1acd",
   "metadata": {},
   "outputs": [
    {
     "name": "stdout",
     "output_type": "stream",
     "text": [
      "5\n",
      "110.45\n"
     ]
    }
   ],
   "source": [
    "print(i)\n",
    "print(f)"
   ]
  },
  {
   "cell_type": "code",
   "execution_count": 11,
   "id": "79cf1fa4-c4bc-4c0a-a615-08a43a2befbf",
   "metadata": {},
   "outputs": [
    {
     "data": {
      "text/plain": [
       "115.45"
      ]
     },
     "execution_count": 11,
     "metadata": {},
     "output_type": "execute_result"
    }
   ],
   "source": [
    "i + f"
   ]
  },
  {
   "cell_type": "code",
   "execution_count": 12,
   "id": "e6eceb4c-a816-49b5-8f47-3568f1f46960",
   "metadata": {},
   "outputs": [
    {
     "data": {
      "text/plain": [
       "-105.45"
      ]
     },
     "execution_count": 12,
     "metadata": {},
     "output_type": "execute_result"
    }
   ],
   "source": [
    "i - f"
   ]
  },
  {
   "cell_type": "code",
   "execution_count": 13,
   "id": "f53721e2-8401-43b4-a453-40183f3306be",
   "metadata": {},
   "outputs": [
    {
     "data": {
      "text/plain": [
       "552.25"
      ]
     },
     "execution_count": 13,
     "metadata": {},
     "output_type": "execute_result"
    }
   ],
   "source": [
    "i * f"
   ]
  },
  {
   "cell_type": "code",
   "execution_count": 15,
   "id": "b976977d-e478-4837-aaac-76a7e349a9b5",
   "metadata": {},
   "outputs": [
    {
     "data": {
      "text/plain": [
       "2"
      ]
     },
     "execution_count": 15,
     "metadata": {},
     "output_type": "execute_result"
    }
   ],
   "source": [
    "True + True"
   ]
  },
  {
   "cell_type": "code",
   "execution_count": 16,
   "id": "bf874559-306b-4cb1-bed1-facfb6f46814",
   "metadata": {},
   "outputs": [
    {
     "data": {
      "text/plain": [
       "1"
      ]
     },
     "execution_count": 16,
     "metadata": {},
     "output_type": "execute_result"
    }
   ],
   "source": [
    "True + False"
   ]
  },
  {
   "cell_type": "code",
   "execution_count": 18,
   "id": "99aff9eb-6837-4a9a-84eb-b888266f2704",
   "metadata": {},
   "outputs": [
    {
     "data": {
      "text/plain": [
       "'hello'"
      ]
     },
     "execution_count": 18,
     "metadata": {},
     "output_type": "execute_result"
    }
   ],
   "source": [
    "s = 'hello'\n",
    "s"
   ]
  },
  {
   "cell_type": "code",
   "execution_count": 19,
   "id": "ccae5577-7dcb-46eb-9591-49532e6a2314",
   "metadata": {},
   "outputs": [
    {
     "data": {
      "text/plain": [
       "(10+20j)"
      ]
     },
     "execution_count": 19,
     "metadata": {},
     "output_type": "execute_result"
    }
   ],
   "source": [
    "c = 10 + 20j\n",
    "c"
   ]
  },
  {
   "cell_type": "code",
   "execution_count": 22,
   "id": "fbc84d41-c792-45c0-911d-5d8af1149cec",
   "metadata": {},
   "outputs": [],
   "source": [
    "c = 10 + 20j\n",
    "d = 20 + 30j"
   ]
  },
  {
   "cell_type": "code",
   "execution_count": null,
   "id": "7f866c28-fc0c-4ec0-93b2-933f83eca0c3",
   "metadata": {},
   "outputs": [],
   "source": [
    "print(c+d)"
   ]
  },
  {
   "cell_type": "code",
   "execution_count": 24,
   "id": "84441682-561e-4a1e-9ca5-438e86622528",
   "metadata": {},
   "outputs": [
    {
     "name": "stdout",
     "output_type": "stream",
     "text": [
      "(-10-10j)\n"
     ]
    }
   ],
   "source": [
    "print(c-d)"
   ]
  },
  {
   "cell_type": "code",
   "execution_count": 25,
   "id": "c51ab970-0ac3-4cc0-be29-b23ef6095021",
   "metadata": {},
   "outputs": [
    {
     "name": "stdout",
     "output_type": "stream",
     "text": [
      "(-400+700j)\n"
     ]
    }
   ],
   "source": [
    "print(c*d)"
   ]
  },
  {
   "cell_type": "code",
   "execution_count": 27,
   "id": "71f2555a-00d9-45c8-ae70-a0ddec2055f9",
   "metadata": {},
   "outputs": [
    {
     "name": "stdin",
     "output_type": "stream",
     "text": [
      "1.5 \n",
      "6.3 \n"
     ]
    }
   ],
   "source": [
    "num1 = input(1.5)\n",
    "num2 = input(6.3)"
   ]
  },
  {
   "cell_type": "code",
   "execution_count": 31,
   "id": "d8367e96-67dd-4c5e-b37a-0c6fea1f1a2a",
   "metadata": {},
   "outputs": [
    {
     "data": {
      "text/plain": [
       "(1+2j)"
      ]
     },
     "execution_count": 31,
     "metadata": {},
     "output_type": "execute_result"
    }
   ],
   "source": [
    "num = 1+2j\n",
    "num"
   ]
  },
  {
   "cell_type": "code",
   "execution_count": 9,
   "id": "4a278a79-01a2-4278-8007-04d6f09510c5",
   "metadata": {},
   "outputs": [
    {
     "name": "stdout",
     "output_type": "stream",
     "text": [
      "The value of x after swapping:19\n",
      "The value of x after swapping:87\n"
     ]
    }
   ],
   "source": [
    "#Python program to swap two variable\n",
    "\n",
    "x = 87\n",
    "y = 19\n",
    "\n",
    "# To take a inputs from the user\n",
    "#x input('Enter value of x: ')\n",
    "#y input('Enter value of y: ')\n",
    "\n",
    "# create a temporary variable and swap the values \n",
    "\n",
    "temp = x\n",
    "x = y\n",
    "y = temp\n",
    "\n",
    "print('The value of x after swapping:{}'.format(x))\n",
    "print('The value of x after swapping:{}'.format(y))\n"
   ]
  },
  {
   "cell_type": "code",
   "execution_count": 18,
   "id": "1cddff99-8e68-49eb-a03f-47b3a9927f2c",
   "metadata": {},
   "outputs": [
    {
     "name": "stdout",
     "output_type": "stream",
     "text": [
      "4\n"
     ]
    }
   ],
   "source": [
    "# Program to generate a random number between 0 and 9\n",
    "\n",
    "# importing the random module\n",
    "import random\n",
    "\n",
    "print(random.randint(0,9))\n"
   ]
  },
  {
   "cell_type": "code",
   "execution_count": null,
   "id": "a618f919-382e-416d-81c0-775af058aaa4",
   "metadata": {},
   "outputs": [],
   "source": []
  },
  {
   "cell_type": "code",
   "execution_count": 2,
   "id": "6d55a630-ade4-4e57-9cbf-75b404bfa6cf",
   "metadata": {},
   "outputs": [
    {
     "data": {
      "text/plain": [
       "(10+10j)"
      ]
     },
     "execution_count": 2,
     "metadata": {},
     "output_type": "execute_result"
    }
   ],
   "source": [
    "complex('10+10j')"
   ]
  },
  {
   "cell_type": "code",
   "execution_count": null,
   "id": "952bef76-1f71-49c8-9fb3-98b4a3a4250c",
   "metadata": {},
   "outputs": [],
   "source": [
    "#python casting"
   ]
  },
  {
   "cell_type": "code",
   "execution_count": 10,
   "id": "65cfbf04-b5e8-4ca0-9523-6c4309cdbf3a",
   "metadata": {},
   "outputs": [],
   "source": [
    "x = int(1)\n",
    "y = int(5.8)\n",
    "z = int(\"8\")"
   ]
  },
  {
   "cell_type": "code",
   "execution_count": 11,
   "id": "1ef7129e-2e30-4c46-9d6e-f518337f02fb",
   "metadata": {},
   "outputs": [
    {
     "name": "stdout",
     "output_type": "stream",
     "text": [
      "1\n",
      "5\n",
      "8\n"
     ]
    }
   ],
   "source": [
    "print(x)\n",
    "print(y)\n",
    "print(z)\n"
   ]
  },
  {
   "cell_type": "code",
   "execution_count": 12,
   "id": "602874cc-22ef-4d6c-804b-ff1546abe0ae",
   "metadata": {},
   "outputs": [],
   "source": [
    "x = float(1)\n",
    "y = float(5.8)\n",
    "z = float(\"2\")\n",
    "w = float(\"2.5\")"
   ]
  },
  {
   "cell_type": "code",
   "execution_count": 13,
   "id": "f63dfbe8-c908-4217-b380-6215eb2b89d0",
   "metadata": {},
   "outputs": [
    {
     "name": "stdout",
     "output_type": "stream",
     "text": [
      "1.0\n",
      "5.8\n",
      "2.0\n",
      "2.5\n"
     ]
    }
   ],
   "source": [
    "print(x)\n",
    "print(y)\n",
    "print(z)\n",
    "print(w)"
   ]
  },
  {
   "cell_type": "code",
   "execution_count": 16,
   "id": "6a94f382-8a22-4d5c-90b4-26754b5f3991",
   "metadata": {},
   "outputs": [],
   "source": [
    "x = str(\"s1\")\n",
    "y = str(2)\n",
    "z = str(6.5)"
   ]
  },
  {
   "cell_type": "code",
   "execution_count": 17,
   "id": "b1cfeb87-c4a9-4983-a513-731f3fd7b8ba",
   "metadata": {},
   "outputs": [
    {
     "name": "stdout",
     "output_type": "stream",
     "text": [
      "s1\n",
      "2\n",
      "6.5\n"
     ]
    }
   ],
   "source": [
    "print(x)\n",
    "print(y)\n",
    "print(z)"
   ]
  },
  {
   "cell_type": "code",
   "execution_count": 21,
   "id": "b4d845ad-823f-4e51-9586-cc421ea6dcbd",
   "metadata": {},
   "outputs": [],
   "source": [
    "a = 70\n",
    "b = 3"
   ]
  },
  {
   "cell_type": "code",
   "execution_count": 22,
   "id": "b8e9a9f6-a9cb-43ea-bbb1-09ad929bdd6a",
   "metadata": {},
   "outputs": [
    {
     "name": "stdout",
     "output_type": "stream",
     "text": [
      "70\n"
     ]
    }
   ],
   "source": [
    "print(max(a, b))"
   ]
  },
  {
   "cell_type": "code",
   "execution_count": null,
   "id": "b22778ab-7016-40c7-a10c-7220cf6c4910",
   "metadata": {},
   "outputs": [],
   "source": [
    "#factorial of a number"
   ]
  },
  {
   "cell_type": "code",
   "execution_count": 23,
   "id": "a5ddcaa9-9e35-43e6-8c0c-e0f3e1259a8b",
   "metadata": {},
   "outputs": [],
   "source": [
    "n = 6\n",
    "# initialize the factorial variable to 1\n",
    "fact = 1\n",
    "\n",
    "# calculate the factorial using a for loop\n",
    "for i in range(1, n + 1):\n",
    "    fact *= i"
   ]
  },
  {
   "cell_type": "code",
   "execution_count": 24,
   "id": "33e2ecc3-6a09-458d-a665-627e17c9274e",
   "metadata": {},
   "outputs": [
    {
     "name": "stdout",
     "output_type": "stream",
     "text": [
      "720\n"
     ]
    }
   ],
   "source": [
    "print(fact)"
   ]
  },
  {
   "cell_type": "code",
   "execution_count": 12,
   "id": "dfc583e3-1d04-4f67-b16f-9e6ffe616029",
   "metadata": {},
   "outputs": [
    {
     "name": "stdout",
     "output_type": "stream",
     "text": [
      "3.84\n"
     ]
    }
   ],
   "source": [
    "def fun(p, t, r):\n",
    "    return (p * t * r) / 100\n",
    "\n",
    "p, t, r = 8, 6, 8\n",
    "\n",
    "res = fun(p, t, r)\n",
    "print(res)"
   ]
  },
  {
   "cell_type": "code",
   "execution_count": 14,
   "id": "bedb620e-39f4-4b24-8b33-a727745399cc",
   "metadata": {},
   "outputs": [],
   "source": [
    "x = 1.10\n",
    "y = 1.0\n",
    "z = -35.59"
   ]
  },
  {
   "cell_type": "code",
   "execution_count": 15,
   "id": "14a52263-003d-4f7c-a124-2b5d9475e3eb",
   "metadata": {},
   "outputs": [
    {
     "name": "stdout",
     "output_type": "stream",
     "text": [
      "<class 'float'>\n",
      "<class 'float'>\n",
      "<class 'float'>\n"
     ]
    }
   ],
   "source": [
    "print(type(x))\n",
    "print(type(y))\n",
    "print(type(z))"
   ]
  },
  {
   "cell_type": "code",
   "execution_count": null,
   "id": "52b46366-014e-48c1-99e7-fe115027a2d0",
   "metadata": {},
   "outputs": [],
   "source": [
    "using exponentiation operator"
   ]
  },
  {
   "cell_type": "code",
   "execution_count": 5,
   "id": "c252fc44-816b-4d85-84e6-8a10a112832d",
   "metadata": {},
   "outputs": [],
   "source": [
    "P = 1300\n",
    "R = 5.5\n",
    "T = 2\n",
    "\n",
    "A = P * (1 + R/100) **T\n",
    "CI =A - P\n"
   ]
  },
  {
   "cell_type": "code",
   "execution_count": 6,
   "id": "a8ee6628-7a2a-4b0d-8192-d88b8cad8a1d",
   "metadata": {},
   "outputs": [
    {
     "name": "stdout",
     "output_type": "stream",
     "text": [
      "compound interest: 146.9324999999999\n"
     ]
    }
   ],
   "source": [
    "print(\"compound interest:\", CI)"
   ]
  },
  {
   "cell_type": "code",
   "execution_count": null,
   "id": "121a6e4b-3607-4b6c-8b98-58292ae53978",
   "metadata": {},
   "outputs": [],
   "source": [
    "using built -in pow() function"
   ]
  },
  {
   "cell_type": "code",
   "execution_count": 7,
   "id": "54a8c7d6-1e08-45d2-b8ce-141357bc40bb",
   "metadata": {},
   "outputs": [],
   "source": [
    "p = 10000\n",
    "r = 10.25\n",
    "t = 5\n",
    "\n",
    "amt = p * (pow((1 + r / 100), t))\n",
    "CI = amt - p\n"
   ]
  },
  {
   "cell_type": "code",
   "execution_count": 8,
   "id": "77f57b9d-a385-4355-914a-255122d85494",
   "metadata": {},
   "outputs": [
    {
     "name": "stdout",
     "output_type": "stream",
     "text": [
      "compound interest: 6288.946267774416\n"
     ]
    }
   ],
   "source": [
    "print(\"compound interest:\",CI)"
   ]
  },
  {
   "cell_type": "code",
   "execution_count": null,
   "id": "081ced17-a838-49e8-abd1-4324bd20f3c8",
   "metadata": {},
   "outputs": [],
   "source": [
    "taking input from user"
   ]
  },
  {
   "cell_type": "code",
   "execution_count": null,
   "id": "ac138daa-ca91-4a9e-bcdc-5b88d8f292b5",
   "metadata": {},
   "outputs": [],
   "source": [
    "p = int(input(\"principal amount: \"))\n",
    "r = int(input(\"rate of interest: \"))\n",
    "t = int(input(\"time of year: \"))\n",
    "\n",
    "\n",
    "amt = p * (pow((1 +r / 100), t))\n",
    "CI = amt - p\n",
    "\n",
    "print(\"compound interest;\",CI)"
   ]
  },
  {
   "cell_type": "code",
   "execution_count": null,
   "id": "f506bae5-e84e-42df-9f35-9702d472bc12",
   "metadata": {},
   "outputs": [],
   "source": [
    " "
   ]
  },
  {
   "cell_type": "code",
   "execution_count": 5,
   "id": "c336b548-990d-49bf-b0ec-a1b7f3626b0e",
   "metadata": {},
   "outputs": [
    {
     "name": "stdout",
     "output_type": "stream",
     "text": [
      "Mk\n",
      "MK\n",
      "MK\n"
     ]
    }
   ],
   "source": [
    "name1 = \"Mk\"\n",
    "name2 = 'MK'\n",
    "name3 = '''MK'''\n",
    "\n",
    "print(name1)\n",
    "print(name2)\n",
    "print(name3)"
   ]
  },
  {
   "cell_type": "code",
   "execution_count": null,
   "id": "d85538b7-cec5-4f35-b664-9f3953d488a9",
   "metadata": {},
   "outputs": [],
   "source": [
    "#print sum"
   ]
  },
  {
   "cell_type": "code",
   "execution_count": 6,
   "id": "76f0422e-9ece-4edc-9cc9-606047e16f5b",
   "metadata": {},
   "outputs": [
    {
     "name": "stdout",
     "output_type": "stream",
     "text": [
      "7\n"
     ]
    }
   ],
   "source": [
    " a = 2 \n",
    " b = 5\n",
    "sum = a + b\n",
    "print(sum)"
   ]
  },
  {
   "cell_type": "code",
   "execution_count": null,
   "id": "3ef4581f-96cf-4f18-a6eb-f20c85b30db0",
   "metadata": {},
   "outputs": [],
   "source": []
  },
  {
   "cell_type": "code",
   "execution_count": null,
   "id": "a664f0df-03ff-4d14-928d-976744307fd1",
   "metadata": {},
   "outputs": [],
   "source": []
  },
  {
   "cell_type": "code",
   "execution_count": null,
   "id": "30705f8f-cc38-422c-8f2a-016d5d054f8b",
   "metadata": {},
   "outputs": [],
   "source": []
  },
  {
   "cell_type": "code",
   "execution_count": null,
   "id": "1a1d5803-b88c-4819-901a-b52dfb2f2e75",
   "metadata": {},
   "outputs": [],
   "source": []
  },
  {
   "cell_type": "code",
   "execution_count": null,
   "id": "88c7f85a-379d-4e06-965d-db7f3f2430d4",
   "metadata": {},
   "outputs": [],
   "source": []
  }
 ],
 "metadata": {
  "kernelspec": {
   "display_name": "Python [conda env:base] *",
   "language": "python",
   "name": "conda-base-py"
  },
  "language_info": {
   "codemirror_mode": {
    "name": "ipython",
    "version": 3
   },
   "file_extension": ".py",
   "mimetype": "text/x-python",
   "name": "python",
   "nbconvert_exporter": "python",
   "pygments_lexer": "ipython3",
   "version": "3.13.5"
  }
 },
 "nbformat": 4,
 "nbformat_minor": 5
}
