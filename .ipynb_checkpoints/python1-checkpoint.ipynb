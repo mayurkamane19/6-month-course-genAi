{
 "cells": [
  {
   "cell_type": "code",
   "execution_count": 4,
   "id": "0c5db086-899e-4f86-a6aa-d9f0cd264792",
   "metadata": {},
   "outputs": [
    {
     "name": "stdout",
     "output_type": "stream",
     "text": [
      "hi\n"
     ]
    }
   ],
   "source": [
    "print(\"hi\")"
   ]
  },
  {
   "cell_type": "code",
   "execution_count": null,
   "id": "c311898d-a4d5-4892-8d7c-65c34b332d7a",
   "metadata": {},
   "outputs": [],
   "source": []
  },
  {
   "cell_type": "code",
   "execution_count": null,
   "id": "74e56848-cb1e-41bb-b685-d497275c3312",
   "metadata": {},
   "outputs": [],
   "source": []
  },
  {
   "cell_type": "code",
   "execution_count": 8,
   "id": "05a0095b-2706-4432-b317-2bc237422287",
   "metadata": {},
   "outputs": [
    {
     "name": "stdin",
     "output_type": "stream",
     "text": [
      "please enter leangth 4\n",
      "please enter width 2\n"
     ]
    }
   ],
   "source": [
    "a = input(\"please enter leangth\")\n",
    "b = input(\"please enter width\")"
   ]
  },
  {
   "cell_type": "code",
   "execution_count": null,
   "id": "23d27a27-0686-4370-b262-1664b93faea3",
   "metadata": {},
   "outputs": [],
   "source": []
  },
  {
   "cell_type": "code",
   "execution_count": 9,
   "id": "4db0b718-ffac-493b-8116-25b150fe337c",
   "metadata": {},
   "outputs": [
    {
     "name": "stdout",
     "output_type": "stream",
     "text": [
      "8.0\n"
     ]
    }
   ],
   "source": [
    "print(float(a)*float(b)  )"
   ]
  },
  {
   "cell_type": "code",
   "execution_count": null,
   "id": "2fab6069-73df-47c5-afbb-842d5fbcf339",
   "metadata": {},
   "outputs": [
    {
     "name": "stdin",
     "output_type": "stream",
     "text": [
      "please enter number 5\n"
     ]
    }
   ],
   "source": [
    "a = int(input(\"Enter first number: \"))\n",
    "b = int(input(\"Enter second number: \"))"
   ]
  },
  {
   "cell_type": "code",
   "execution_count": null,
   "id": "e3cf75a3-8a6f-48b9-824d-3f84c56bfdbc",
   "metadata": {},
   "outputs": [],
   "source": [
    "    print(f\"{a} is a multiple of {b}\")\n",
    "else:\n",
    "    print(f\"{a} is not a multiple of {b}\")\n"
   ]
  },
  {
   "cell_type": "code",
   "execution_count": 1,
   "id": "f6c62d84-246b-457e-a59a-e456b5abba00",
   "metadata": {},
   "outputs": [],
   "source": [
    "# python data types"
   ]
  },
  {
   "cell_type": "code",
   "execution_count": 3,
   "id": "b2d9e064-93ed-470b-ab92-eebb05730d80",
   "metadata": {},
   "outputs": [
    {
     "data": {
      "text/plain": [
       "5"
      ]
     },
     "execution_count": 3,
     "metadata": {},
     "output_type": "execute_result"
    }
   ],
   "source": [
    "i = 5\n",
    "i"
   ]
  },
  {
   "cell_type": "code",
   "execution_count": 7,
   "id": "1483eefc-bcd6-4ae8-a0a8-a36b5824e739",
   "metadata": {},
   "outputs": [
    {
     "data": {
      "text/plain": [
       "int"
      ]
     },
     "execution_count": 7,
     "metadata": {},
     "output_type": "execute_result"
    }
   ],
   "source": [
    "type(i)"
   ]
  },
  {
   "cell_type": "code",
   "execution_count": 8,
   "id": "0696e50c-6419-44aa-8ea2-0821b64c0fb3",
   "metadata": {},
   "outputs": [
    {
     "data": {
      "text/plain": [
       "110.45"
      ]
     },
     "execution_count": 8,
     "metadata": {},
     "output_type": "execute_result"
    }
   ],
   "source": [
    "f = 110.45\n",
    "f"
   ]
  },
  {
   "cell_type": "code",
   "execution_count": 9,
   "id": "95f628b9-c3ae-4441-b612-dee57598401d",
   "metadata": {},
   "outputs": [
    {
     "data": {
      "text/plain": [
       "110.45"
      ]
     },
     "execution_count": 9,
     "metadata": {},
     "output_type": "execute_result"
    }
   ],
   "source": [
    "type(f)\n",
    "f"
   ]
  },
  {
   "cell_type": "code",
   "execution_count": 10,
   "id": "1144352e-4f0c-4f25-adc4-e1c0750b1acd",
   "metadata": {},
   "outputs": [
    {
     "name": "stdout",
     "output_type": "stream",
     "text": [
      "5\n",
      "110.45\n"
     ]
    }
   ],
   "source": [
    "print(i)\n",
    "print(f)"
   ]
  },
  {
   "cell_type": "code",
   "execution_count": 11,
   "id": "79cf1fa4-c4bc-4c0a-a615-08a43a2befbf",
   "metadata": {},
   "outputs": [
    {
     "data": {
      "text/plain": [
       "115.45"
      ]
     },
     "execution_count": 11,
     "metadata": {},
     "output_type": "execute_result"
    }
   ],
   "source": [
    "i + f"
   ]
  },
  {
   "cell_type": "code",
   "execution_count": 12,
   "id": "e6eceb4c-a816-49b5-8f47-3568f1f46960",
   "metadata": {},
   "outputs": [
    {
     "data": {
      "text/plain": [
       "-105.45"
      ]
     },
     "execution_count": 12,
     "metadata": {},
     "output_type": "execute_result"
    }
   ],
   "source": [
    "i - f"
   ]
  },
  {
   "cell_type": "code",
   "execution_count": 13,
   "id": "f53721e2-8401-43b4-a453-40183f3306be",
   "metadata": {},
   "outputs": [
    {
     "data": {
      "text/plain": [
       "552.25"
      ]
     },
     "execution_count": 13,
     "metadata": {},
     "output_type": "execute_result"
    }
   ],
   "source": [
    "i * f"
   ]
  },
  {
   "cell_type": "code",
   "execution_count": 15,
   "id": "b976977d-e478-4837-aaac-76a7e349a9b5",
   "metadata": {},
   "outputs": [
    {
     "data": {
      "text/plain": [
       "2"
      ]
     },
     "execution_count": 15,
     "metadata": {},
     "output_type": "execute_result"
    }
   ],
   "source": [
    "True + True"
   ]
  },
  {
   "cell_type": "code",
   "execution_count": 16,
   "id": "bf874559-306b-4cb1-bed1-facfb6f46814",
   "metadata": {},
   "outputs": [
    {
     "data": {
      "text/plain": [
       "1"
      ]
     },
     "execution_count": 16,
     "metadata": {},
     "output_type": "execute_result"
    }
   ],
   "source": [
    "True + False"
   ]
  },
  {
   "cell_type": "code",
   "execution_count": 18,
   "id": "99aff9eb-6837-4a9a-84eb-b888266f2704",
   "metadata": {},
   "outputs": [
    {
     "data": {
      "text/plain": [
       "'hello'"
      ]
     },
     "execution_count": 18,
     "metadata": {},
     "output_type": "execute_result"
    }
   ],
   "source": [
    "s = 'hello'\n",
    "s"
   ]
  },
  {
   "cell_type": "code",
   "execution_count": 19,
   "id": "ccae5577-7dcb-46eb-9591-49532e6a2314",
   "metadata": {},
   "outputs": [
    {
     "data": {
      "text/plain": [
       "(10+20j)"
      ]
     },
     "execution_count": 19,
     "metadata": {},
     "output_type": "execute_result"
    }
   ],
   "source": [
    "c = 10 + 20j\n",
    "c"
   ]
  },
  {
   "cell_type": "code",
   "execution_count": 22,
   "id": "fbc84d41-c792-45c0-911d-5d8af1149cec",
   "metadata": {},
   "outputs": [],
   "source": [
    "c = 10 + 20j\n",
    "d = 20 + 30j"
   ]
  },
  {
   "cell_type": "code",
   "execution_count": null,
   "id": "7f866c28-fc0c-4ec0-93b2-933f83eca0c3",
   "metadata": {},
   "outputs": [],
   "source": [
    "print(c+d)"
   ]
  },
  {
   "cell_type": "code",
   "execution_count": 24,
   "id": "84441682-561e-4a1e-9ca5-438e86622528",
   "metadata": {},
   "outputs": [
    {
     "name": "stdout",
     "output_type": "stream",
     "text": [
      "(-10-10j)\n"
     ]
    }
   ],
   "source": [
    "print(c-d)"
   ]
  },
  {
   "cell_type": "code",
   "execution_count": 25,
   "id": "c51ab970-0ac3-4cc0-be29-b23ef6095021",
   "metadata": {},
   "outputs": [
    {
     "name": "stdout",
     "output_type": "stream",
     "text": [
      "(-400+700j)\n"
     ]
    }
   ],
   "source": [
    "print(c*d)"
   ]
  },
  {
   "cell_type": "code",
   "execution_count": 27,
   "id": "71f2555a-00d9-45c8-ae70-a0ddec2055f9",
   "metadata": {},
   "outputs": [
    {
     "name": "stdin",
     "output_type": "stream",
     "text": [
      "1.5 \n",
      "6.3 \n"
     ]
    }
   ],
   "source": [
    "num1 = input(1.5)\n",
    "num2 = input(6.3)"
   ]
  },
  {
   "cell_type": "code",
   "execution_count": 31,
   "id": "d8367e96-67dd-4c5e-b37a-0c6fea1f1a2a",
   "metadata": {},
   "outputs": [
    {
     "data": {
      "text/plain": [
       "(1+2j)"
      ]
     },
     "execution_count": 31,
     "metadata": {},
     "output_type": "execute_result"
    }
   ],
   "source": [
    "num = 1+2j\n",
    "num"
   ]
  },
  {
   "cell_type": "code",
   "execution_count": 9,
   "id": "4a278a79-01a2-4278-8007-04d6f09510c5",
   "metadata": {},
   "outputs": [
    {
     "name": "stdout",
     "output_type": "stream",
     "text": [
      "The value of x after swapping:19\n",
      "The value of x after swapping:87\n"
     ]
    }
   ],
   "source": [
    "#Python program to swap two variable\n",
    "\n",
    "x = 87\n",
    "y = 19\n",
    "\n",
    "# To take a inputs from the user\n",
    "#x input('Enter value of x: ')\n",
    "#y input('Enter value of y: ')\n",
    "\n",
    "# create a temporary variable and swap the values \n",
    "\n",
    "temp = x\n",
    "x = y\n",
    "y = temp\n",
    "\n",
    "print('The value of x after swapping:{}'.format(x))\n",
    "print('The value of x after swapping:{}'.format(y))\n"
   ]
  },
  {
   "cell_type": "code",
   "execution_count": 18,
   "id": "1cddff99-8e68-49eb-a03f-47b3a9927f2c",
   "metadata": {},
   "outputs": [
    {
     "name": "stdout",
     "output_type": "stream",
     "text": [
      "4\n"
     ]
    }
   ],
   "source": [
    "# Program to generate a random number between 0 and 9\n",
    "\n",
    "# importing the random module\n",
    "import random\n",
    "\n",
    "print(random.randint(0,9))\n"
   ]
  },
  {
   "cell_type": "code",
   "execution_count": null,
   "id": "a618f919-382e-416d-81c0-775af058aaa4",
   "metadata": {},
   "outputs": [],
   "source": []
  },
  {
   "cell_type": "code",
   "execution_count": 2,
   "id": "6d55a630-ade4-4e57-9cbf-75b404bfa6cf",
   "metadata": {},
   "outputs": [
    {
     "data": {
      "text/plain": [
       "(10+10j)"
      ]
     },
     "execution_count": 2,
     "metadata": {},
     "output_type": "execute_result"
    }
   ],
   "source": [
    "complex('10+10j')"
   ]
  },
  {
   "cell_type": "code",
   "execution_count": null,
   "id": "952bef76-1f71-49c8-9fb3-98b4a3a4250c",
   "metadata": {},
   "outputs": [],
   "source": [
    "#python casting"
   ]
  },
  {
   "cell_type": "code",
   "execution_count": 10,
   "id": "65cfbf04-b5e8-4ca0-9523-6c4309cdbf3a",
   "metadata": {},
   "outputs": [],
   "source": [
    "x = int(1)\n",
    "y = int(5.8)\n",
    "z = int(\"8\")"
   ]
  },
  {
   "cell_type": "code",
   "execution_count": 11,
   "id": "1ef7129e-2e30-4c46-9d6e-f518337f02fb",
   "metadata": {},
   "outputs": [
    {
     "name": "stdout",
     "output_type": "stream",
     "text": [
      "1\n",
      "5\n",
      "8\n"
     ]
    }
   ],
   "source": [
    "print(x)\n",
    "print(y)\n",
    "print(z)\n"
   ]
  },
  {
   "cell_type": "code",
   "execution_count": 12,
   "id": "602874cc-22ef-4d6c-804b-ff1546abe0ae",
   "metadata": {},
   "outputs": [],
   "source": [
    "x = float(1)\n",
    "y = float(5.8)\n",
    "z = float(\"2\")\n",
    "w = float(\"2.5\")"
   ]
  },
  {
   "cell_type": "code",
   "execution_count": 13,
   "id": "f63dfbe8-c908-4217-b380-6215eb2b89d0",
   "metadata": {},
   "outputs": [
    {
     "name": "stdout",
     "output_type": "stream",
     "text": [
      "1.0\n",
      "5.8\n",
      "2.0\n",
      "2.5\n"
     ]
    }
   ],
   "source": [
    "print(x)\n",
    "print(y)\n",
    "print(z)\n",
    "print(w)"
   ]
  },
  {
   "cell_type": "code",
   "execution_count": 16,
   "id": "6a94f382-8a22-4d5c-90b4-26754b5f3991",
   "metadata": {},
   "outputs": [],
   "source": [
    "x = str(\"s1\")\n",
    "y = str(2)\n",
    "z = str(6.5)"
   ]
  },
  {
   "cell_type": "code",
   "execution_count": 17,
   "id": "b1cfeb87-c4a9-4983-a513-731f3fd7b8ba",
   "metadata": {},
   "outputs": [
    {
     "name": "stdout",
     "output_type": "stream",
     "text": [
      "s1\n",
      "2\n",
      "6.5\n"
     ]
    }
   ],
   "source": [
    "print(x)\n",
    "print(y)\n",
    "print(z)"
   ]
  },
  {
   "cell_type": "code",
   "execution_count": 21,
   "id": "b4d845ad-823f-4e51-9586-cc421ea6dcbd",
   "metadata": {},
   "outputs": [],
   "source": [
    "a = 70\n",
    "b = 3"
   ]
  },
  {
   "cell_type": "code",
   "execution_count": 22,
   "id": "b8e9a9f6-a9cb-43ea-bbb1-09ad929bdd6a",
   "metadata": {},
   "outputs": [
    {
     "name": "stdout",
     "output_type": "stream",
     "text": [
      "70\n"
     ]
    }
   ],
   "source": [
    "print(max(a, b))"
   ]
  },
  {
   "cell_type": "code",
   "execution_count": null,
   "id": "b22778ab-7016-40c7-a10c-7220cf6c4910",
   "metadata": {},
   "outputs": [],
   "source": [
    "#factorial of a number"
   ]
  },
  {
   "cell_type": "code",
   "execution_count": 23,
   "id": "a5ddcaa9-9e35-43e6-8c0c-e0f3e1259a8b",
   "metadata": {},
   "outputs": [],
   "source": [
    "n = 6\n",
    "# initialize the factorial variable to 1\n",
    "fact = 1\n",
    "\n",
    "# calculate the factorial using a for loop\n",
    "for i in range(1, n + 1):\n",
    "    fact *= i"
   ]
  },
  {
   "cell_type": "code",
   "execution_count": 24,
   "id": "33e2ecc3-6a09-458d-a665-627e17c9274e",
   "metadata": {},
   "outputs": [
    {
     "name": "stdout",
     "output_type": "stream",
     "text": [
      "720\n"
     ]
    }
   ],
   "source": [
    "print(fact)"
   ]
  },
  {
   "cell_type": "code",
   "execution_count": 12,
   "id": "dfc583e3-1d04-4f67-b16f-9e6ffe616029",
   "metadata": {},
   "outputs": [
    {
     "name": "stdout",
     "output_type": "stream",
     "text": [
      "3.84\n"
     ]
    }
   ],
   "source": [
    "def fun(p, t, r):\n",
    "    return (p * t * r) / 100\n",
    "\n",
    "p, t, r = 8, 6, 8\n",
    "\n",
    "res = fun(p, t, r)\n",
    "print(res)"
   ]
  },
  {
   "cell_type": "code",
   "execution_count": 14,
   "id": "bedb620e-39f4-4b24-8b33-a727745399cc",
   "metadata": {},
   "outputs": [],
   "source": [
    "x = 1.10\n",
    "y = 1.0\n",
    "z = -35.59"
   ]
  },
  {
   "cell_type": "code",
   "execution_count": 15,
   "id": "14a52263-003d-4f7c-a124-2b5d9475e3eb",
   "metadata": {},
   "outputs": [
    {
     "name": "stdout",
     "output_type": "stream",
     "text": [
      "<class 'float'>\n",
      "<class 'float'>\n",
      "<class 'float'>\n"
     ]
    }
   ],
   "source": [
    "print(type(x))\n",
    "print(type(y))\n",
    "print(type(z))"
   ]
  },
  {
   "cell_type": "code",
   "execution_count": null,
   "id": "52b46366-014e-48c1-99e7-fe115027a2d0",
   "metadata": {},
   "outputs": [],
   "source": [
    "using exponentiation operator"
   ]
  },
  {
   "cell_type": "code",
   "execution_count": 5,
   "id": "c252fc44-816b-4d85-84e6-8a10a112832d",
   "metadata": {},
   "outputs": [],
   "source": [
    "P = 1300\n",
    "R = 5.5\n",
    "T = 2\n",
    "\n",
    "A = P * (1 + R/100) **T\n",
    "CI =A - P\n"
   ]
  },
  {
   "cell_type": "code",
   "execution_count": 6,
   "id": "a8ee6628-7a2a-4b0d-8192-d88b8cad8a1d",
   "metadata": {},
   "outputs": [
    {
     "name": "stdout",
     "output_type": "stream",
     "text": [
      "compound interest: 146.9324999999999\n"
     ]
    }
   ],
   "source": [
    "print(\"compound interest:\", CI)"
   ]
  },
  {
   "cell_type": "code",
   "execution_count": null,
   "id": "121a6e4b-3607-4b6c-8b98-58292ae53978",
   "metadata": {},
   "outputs": [],
   "source": [
    "using built -in pow() function"
   ]
  },
  {
   "cell_type": "code",
   "execution_count": 7,
   "id": "54a8c7d6-1e08-45d2-b8ce-141357bc40bb",
   "metadata": {},
   "outputs": [],
   "source": [
    "p = 10000\n",
    "r = 10.25\n",
    "t = 5\n",
    "\n",
    "amt = p * (pow((1 + r / 100), t))\n",
    "CI = amt - p\n"
   ]
  },
  {
   "cell_type": "code",
   "execution_count": 8,
   "id": "77f57b9d-a385-4355-914a-255122d85494",
   "metadata": {},
   "outputs": [
    {
     "name": "stdout",
     "output_type": "stream",
     "text": [
      "compound interest: 6288.946267774416\n"
     ]
    }
   ],
   "source": [
    "print(\"compound interest:\",CI)"
   ]
  },
  {
   "cell_type": "code",
   "execution_count": null,
   "id": "081ced17-a838-49e8-abd1-4324bd20f3c8",
   "metadata": {},
   "outputs": [],
   "source": [
    "taking input from user"
   ]
  },
  {
   "cell_type": "code",
   "execution_count": null,
   "id": "ac138daa-ca91-4a9e-bcdc-5b88d8f292b5",
   "metadata": {},
   "outputs": [],
   "source": [
    "p = int(input(\"principal amount: \"))\n",
    "r = int(input(\"rate of interest: \"))\n",
    "t = int(input(\"time of year: \"))\n",
    "\n",
    "\n",
    "amt = p * (pow((1 +r / 100), t))\n",
    "CI = amt - p\n",
    "\n",
    "print(\"compound interest;\",CI)"
   ]
  },
  {
   "cell_type": "code",
   "execution_count": null,
   "id": "f506bae5-e84e-42df-9f35-9702d472bc12",
   "metadata": {},
   "outputs": [],
   "source": [
    " "
   ]
  },
  {
   "cell_type": "code",
   "execution_count": 5,
   "id": "c336b548-990d-49bf-b0ec-a1b7f3626b0e",
   "metadata": {},
   "outputs": [
    {
     "name": "stdout",
     "output_type": "stream",
     "text": [
      "Mk\n",
      "MK\n",
      "MK\n"
     ]
    }
   ],
   "source": [
    "name1 = \"Mk\"\n",
    "name2 = 'MK'\n",
    "name3 = '''MK'''\n",
    "\n",
    "print(name1)\n",
    "print(name2)\n",
    "print(name3)"
   ]
  },
  {
   "cell_type": "code",
   "execution_count": null,
   "id": "d85538b7-cec5-4f35-b664-9f3953d488a9",
   "metadata": {},
   "outputs": [],
   "source": [
    "#print sum"
   ]
  },
  {
   "cell_type": "code",
   "execution_count": 6,
   "id": "76f0422e-9ece-4edc-9cc9-606047e16f5b",
   "metadata": {},
   "outputs": [
    {
     "name": "stdout",
     "output_type": "stream",
     "text": [
      "7\n"
     ]
    }
   ],
   "source": [
    " a = 2 \n",
    " b = 5\n",
    "sum = a + b\n",
    "print(sum)"
   ]
  },
  {
   "cell_type": "code",
   "execution_count": null,
   "id": "3ef4581f-96cf-4f18-a6eb-f20c85b30db0",
   "metadata": {},
   "outputs": [],
   "source": []
  },
  {
   "cell_type": "code",
   "execution_count": 1,
   "id": "2ead3c1b-9a6f-4215-b7d8-e8cd4c18aac7",
   "metadata": {},
   "outputs": [
    {
     "name": "stdout",
     "output_type": "stream",
     "text": [
      "10\n",
      "10 20\n",
      "python\n",
      "10 20 python\n"
     ]
    }
   ],
   "source": [
    "print(10)\n",
    "print(10,20)\n",
    "print('python')\n",
    "print(10,20,'python')"
   ]
  },
  {
   "cell_type": "code",
   "execution_count": 3,
   "id": "6843f712-5ef0-4090-8feb-5c1eaa2359ec",
   "metadata": {},
   "outputs": [
    {
     "name": "stdout",
     "output_type": "stream",
     "text": [
      "70\n"
     ]
    }
   ],
   "source": [
    "num1=40\n",
    "num2=30\n",
    "add=num1+num2\n",
    "print(add)"
   ]
  },
  {
   "cell_type": "code",
   "execution_count": null,
   "id": "e5817801-f200-4e2d-936b-d18adb784553",
   "metadata": {},
   "outputs": [],
   "source": [
    "# print result with string"
   ]
  },
  {
   "cell_type": "code",
   "execution_count": 4,
   "id": "a664f0df-03ff-4d14-928d-976744307fd1",
   "metadata": {},
   "outputs": [
    {
     "name": "stdout",
     "output_type": "stream",
     "text": [
      "The addition of 20 and 30 is= 50\n"
     ]
    }
   ],
   "source": [
    "num1=20\n",
    "num2=30\n",
    "add=num1+num2\n",
    "print('The addition of',num1,'and',num2,'is=',add)"
   ]
  },
  {
   "cell_type": "code",
   "execution_count": 15,
   "id": "30705f8f-cc38-422c-8f2a-016d5d054f8b",
   "metadata": {},
   "outputs": [
    {
     "name": "stdout",
     "output_type": "stream",
     "text": [
      "The addition of 50 and 70 is= 120\n"
     ]
    }
   ],
   "source": [
    "num1=50\n",
    "num2=70\n",
    "add=num1+num2\n",
    "print('The addition of' ,num1,'and' ,num2,'is=' ,add )"
   ]
  },
  {
   "cell_type": "code",
   "execution_count": null,
   "id": "ec3cbd9c-0612-403d-b3fb-3a65f4465b88",
   "metadata": {},
   "outputs": [],
   "source": [
    "#verify the type of an object"
   ]
  },
  {
   "cell_type": "raw",
   "id": "f864047d-35ff-4ab4-94f1-abf2f95d0fc5",
   "metadata": {},
   "source": [
    "x = 1\n",
    "y = 2.8\n",
    "z = 1j\n",
    "\n"
   ]
  },
  {
   "cell_type": "code",
   "execution_count": 17,
   "id": "fa4efedf-49d0-44ac-bd43-a8e303ad00b2",
   "metadata": {},
   "outputs": [
    {
     "name": "stdout",
     "output_type": "stream",
     "text": [
      "<class 'str'>\n",
      "<class 'str'>\n",
      "<class 'str'>\n"
     ]
    }
   ],
   "source": [
    "print(type('x'))\n",
    "print(type('y'))\n",
    "print(type('z'))"
   ]
  },
  {
   "cell_type": "markdown",
   "id": "d3a770c1-60ee-4154-a40f-95f339a184c6",
   "metadata": {},
   "source": [
    "#create integers"
   ]
  },
  {
   "cell_type": "code",
   "execution_count": 26,
   "id": "377dc432-ced7-445d-acf7-ebc321006045",
   "metadata": {},
   "outputs": [],
   "source": [
    "x = 1\n",
    "y = 3565\n",
    "z = 3255"
   ]
  },
  {
   "cell_type": "code",
   "execution_count": 25,
   "id": "25597862-6871-427e-9be8-e01fd70ef5dd",
   "metadata": {},
   "outputs": [
    {
     "name": "stdout",
     "output_type": "stream",
     "text": [
      "<class 'int'>\n",
      "<class 'float'>\n",
      "<class 'int'>\n"
     ]
    }
   ],
   "source": [
    "print(type(x))\n",
    "print(type(y))\n",
    "print(type(z))"
   ]
  },
  {
   "cell_type": "markdown",
   "id": "d23360af-6e29-4e86-82a6-2accf91cf6e8",
   "metadata": {},
   "source": [
    "#create floating point number"
   ]
  },
  {
   "cell_type": "code",
   "execution_count": 27,
   "id": "b306dd88-419e-4949-81ee-d73cedf362c9",
   "metadata": {},
   "outputs": [],
   "source": [
    "x = 1.10\n",
    "y = 1.0\n",
    "z = -35.59"
   ]
  },
  {
   "cell_type": "code",
   "execution_count": 31,
   "id": "66bf16f1-3c96-474a-ab00-f177686f4b66",
   "metadata": {},
   "outputs": [
    {
     "name": "stdout",
     "output_type": "stream",
     "text": [
      "<class 'float'>\n",
      "<class 'float'>\n",
      "<class 'float'>\n"
     ]
    }
   ],
   "source": [
    "print(type(x))\n",
    "print(type(y))\n",
    "print(type(z))"
   ]
  },
  {
   "cell_type": "code",
   "execution_count": null,
   "id": "9c78f741-c45a-435e-bfe4-8a7cccae6ddf",
   "metadata": {},
   "outputs": [],
   "source": [
    "#python operator"
   ]
  },
  {
   "cell_type": "code",
   "execution_count": 41,
   "id": "6915d314-a4eb-46ce-993b-c839e9558027",
   "metadata": {},
   "outputs": [],
   "source": [
    "x = 5\n",
    "y = 2"
   ]
  },
  {
   "cell_type": "code",
   "execution_count": 42,
   "id": "ef928f24-6a0b-457d-adde-3d48b792cf78",
   "metadata": {},
   "outputs": [
    {
     "name": "stdout",
     "output_type": "stream",
     "text": [
      "7\n"
     ]
    }
   ],
   "source": [
    "print(x + y)"
   ]
  },
  {
   "cell_type": "code",
   "execution_count": 38,
   "id": "e7e3d948-863c-475b-ad88-261e41a942d0",
   "metadata": {},
   "outputs": [],
   "source": [
    "x = 5\n",
    "y = 2"
   ]
  },
  {
   "cell_type": "code",
   "execution_count": 43,
   "id": "ea6aead5-0659-4ce3-9e33-c28136deed29",
   "metadata": {},
   "outputs": [
    {
     "name": "stdout",
     "output_type": "stream",
     "text": [
      "3\n"
     ]
    }
   ],
   "source": [
    "print(x - y)"
   ]
  },
  {
   "cell_type": "code",
   "execution_count": 45,
   "id": "451a44ce-3871-4e6a-9766-25ceb4a717f8",
   "metadata": {},
   "outputs": [],
   "source": [
    "x = 5\n",
    "y = 2"
   ]
  },
  {
   "cell_type": "code",
   "execution_count": 44,
   "id": "d3afc890-05b9-4dfa-9f98-986184eb0f39",
   "metadata": {},
   "outputs": [
    {
     "name": "stdout",
     "output_type": "stream",
     "text": [
      "10\n"
     ]
    }
   ],
   "source": [
    "print(x * y)"
   ]
  },
  {
   "cell_type": "code",
   "execution_count": 40,
   "id": "1a1d5803-b88c-4819-901a-b52dfb2f2e75",
   "metadata": {},
   "outputs": [],
   "source": [
    "x = 5\n",
    "y = 2"
   ]
  },
  {
   "cell_type": "code",
   "execution_count": 46,
   "id": "d9b279be-705b-4f41-a8ae-de218939c79c",
   "metadata": {},
   "outputs": [
    {
     "name": "stdout",
     "output_type": "stream",
     "text": [
      "2.5\n"
     ]
    }
   ],
   "source": [
    "print(x / y)"
   ]
  },
  {
   "cell_type": "code",
   "execution_count": 47,
   "id": "b640f41a-ce7b-4634-989b-b2cf42dd013a",
   "metadata": {},
   "outputs": [],
   "source": [
    "x = 5\n",
    "y = 2"
   ]
  },
  {
   "cell_type": "code",
   "execution_count": 49,
   "id": "c7bcb17d-0ddc-46c3-85fe-f0045d4c9274",
   "metadata": {},
   "outputs": [
    {
     "name": "stdout",
     "output_type": "stream",
     "text": [
      "1\n"
     ]
    }
   ],
   "source": [
    "print(x % y)"
   ]
  },
  {
   "cell_type": "markdown",
   "id": "48ee94c4-6e6d-4193-b42c-b7a4bc19b921",
   "metadata": {},
   "source": [
    "Arithmatic operator"
   ]
  },
  {
   "cell_type": "markdown",
   "id": "0ee23a3c-7b6a-4e7c-9710-e37a74d8cb56",
   "metadata": {},
   "source": [
    "#18 python operator"
   ]
  },
  {
   "cell_type": "code",
   "execution_count": 9,
   "id": "891bd3e9-fa49-4ced-a2f9-acd8b5d8678a",
   "metadata": {},
   "outputs": [],
   "source": [
    "x1 = 10\n",
    "y1 = 5"
   ]
  },
  {
   "cell_type": "code",
   "execution_count": 10,
   "id": "9101f407-13e9-40f2-95ca-e5e8e4ed1dba",
   "metadata": {},
   "outputs": [],
   "source": [
    "x1, y1 = 10, 5"
   ]
  },
  {
   "cell_type": "code",
   "execution_count": 11,
   "id": "cd32cae3-976e-41e8-806e-cdd1cefc8c7b",
   "metadata": {},
   "outputs": [],
   "source": [
    "a, b = 6, 6"
   ]
  },
  {
   "cell_type": "code",
   "execution_count": 13,
   "id": "3a0aac69-b67d-4f27-a4fe-8d2c74c8b33e",
   "metadata": {},
   "outputs": [
    {
     "name": "stdout",
     "output_type": "stream",
     "text": [
      "6\n",
      "6\n"
     ]
    }
   ],
   "source": [
    "print(a)\n",
    "print(b)"
   ]
  },
  {
   "cell_type": "code",
   "execution_count": 20,
   "id": "26ae0af5-868b-400a-ba32-2592c266b4c3",
   "metadata": {},
   "outputs": [],
   "source": [
    "x1, y1 = 10, 5"
   ]
  },
  {
   "cell_type": "code",
   "execution_count": 21,
   "id": "2eb5ae62-ab50-401e-b8de-8343d92997ab",
   "metadata": {},
   "outputs": [],
   "source": [
    "#x1 ^ y1"
   ]
  },
  {
   "cell_type": "code",
   "execution_count": 22,
   "id": "11c6e41b-a0e8-4ea6-b8f2-7aff83b25f3b",
   "metadata": {},
   "outputs": [
    {
     "data": {
      "text/plain": [
       "15"
      ]
     },
     "execution_count": 22,
     "metadata": {},
     "output_type": "execute_result"
    }
   ],
   "source": [
    "x1 + y1"
   ]
  },
  {
   "cell_type": "code",
   "execution_count": 23,
   "id": "286c6cf4-1697-4941-861a-a341c0a88787",
   "metadata": {},
   "outputs": [
    {
     "data": {
      "text/plain": [
       "5"
      ]
     },
     "execution_count": 23,
     "metadata": {},
     "output_type": "execute_result"
    }
   ],
   "source": [
    "x1 - y1"
   ]
  },
  {
   "cell_type": "code",
   "execution_count": 24,
   "id": "f31640ae-864a-4e3f-a4a5-1c517dc3ef32",
   "metadata": {},
   "outputs": [
    {
     "data": {
      "text/plain": [
       "50"
      ]
     },
     "execution_count": 24,
     "metadata": {},
     "output_type": "execute_result"
    }
   ],
   "source": [
    "x1 * y1"
   ]
  },
  {
   "cell_type": "code",
   "execution_count": 25,
   "id": "e95b8b72-034c-4fd5-9660-7864de80ebbd",
   "metadata": {},
   "outputs": [
    {
     "data": {
      "text/plain": [
       "2.0"
      ]
     },
     "execution_count": 25,
     "metadata": {},
     "output_type": "execute_result"
    }
   ],
   "source": [
    "x1 / y1"
   ]
  },
  {
   "cell_type": "code",
   "execution_count": 26,
   "id": "76355783-35db-41ea-81ab-034c0023462f",
   "metadata": {},
   "outputs": [
    {
     "data": {
      "text/plain": [
       "2"
      ]
     },
     "execution_count": 26,
     "metadata": {},
     "output_type": "execute_result"
    }
   ],
   "source": [
    "x1 // y1"
   ]
  },
  {
   "cell_type": "code",
   "execution_count": 27,
   "id": "127b41b9-9a9b-4742-a6dd-e546289f855c",
   "metadata": {},
   "outputs": [
    {
     "data": {
      "text/plain": [
       "0"
      ]
     },
     "execution_count": 27,
     "metadata": {},
     "output_type": "execute_result"
    }
   ],
   "source": [
    "x1 % y1"
   ]
  },
  {
   "cell_type": "code",
   "execution_count": 28,
   "id": "eeb16685-4026-44de-a737-6d5ee3237989",
   "metadata": {},
   "outputs": [
    {
     "data": {
      "text/plain": [
       "100000"
      ]
     },
     "execution_count": 28,
     "metadata": {},
     "output_type": "execute_result"
    }
   ],
   "source": [
    "x1 ** y1"
   ]
  },
  {
   "cell_type": "code",
   "execution_count": 29,
   "id": "932b5bc0-e5ea-4961-9a5e-f97d05f458d3",
   "metadata": {},
   "outputs": [
    {
     "data": {
      "text/plain": [
       "9"
      ]
     },
     "execution_count": 29,
     "metadata": {},
     "output_type": "execute_result"
    }
   ],
   "source": [
    "3 ** 2"
   ]
  },
  {
   "cell_type": "code",
   "execution_count": 30,
   "id": "e787b004-8c44-4959-83f0-2cf6ab1c5fa9",
   "metadata": {},
   "outputs": [
    {
     "data": {
      "text/plain": [
       "27"
      ]
     },
     "execution_count": 30,
     "metadata": {},
     "output_type": "execute_result"
    }
   ],
   "source": [
    "x2 = 3\n",
    "y2 = 3\n",
    "\n",
    "x2 ** y2"
   ]
  },
  {
   "cell_type": "markdown",
   "id": "ac7f3c1c-4cec-4240-9303-756d3bbfabd4",
   "metadata": {},
   "source": [
    "Assignment operator"
   ]
  },
  {
   "cell_type": "code",
   "execution_count": 57,
   "id": "4c043db7-b1f1-4002-ad66-c43db4d2a49e",
   "metadata": {},
   "outputs": [],
   "source": [
    "x = 2"
   ]
  },
  {
   "cell_type": "code",
   "execution_count": 58,
   "id": "7d6deff2-0261-45d7-8145-ff0bb30ef2f8",
   "metadata": {},
   "outputs": [],
   "source": [
    "x = x + 2"
   ]
  },
  {
   "cell_type": "code",
   "execution_count": 59,
   "id": "ef9d3114-9001-4f77-9300-109e9617cfa0",
   "metadata": {},
   "outputs": [
    {
     "data": {
      "text/plain": [
       "6"
      ]
     },
     "execution_count": 59,
     "metadata": {},
     "output_type": "execute_result"
    }
   ],
   "source": [
    "x += 2\n",
    "x"
   ]
  },
  {
   "cell_type": "code",
   "execution_count": 60,
   "id": "f02200e4-acae-4914-bbbf-a900238cf5ec",
   "metadata": {},
   "outputs": [
    {
     "data": {
      "text/plain": [
       "8"
      ]
     },
     "execution_count": 60,
     "metadata": {},
     "output_type": "execute_result"
    }
   ],
   "source": [
    "x += 2\n",
    "x"
   ]
  },
  {
   "cell_type": "code",
   "execution_count": 61,
   "id": "26c2e27b-11c8-4247-9139-51ba5ea96068",
   "metadata": {},
   "outputs": [
    {
     "data": {
      "text/plain": [
       "16"
      ]
     },
     "execution_count": 61,
     "metadata": {},
     "output_type": "execute_result"
    }
   ],
   "source": [
    "x *= 2\n",
    "x"
   ]
  },
  {
   "cell_type": "code",
   "execution_count": 62,
   "id": "051bfd77-a250-46c5-8802-647e40282f92",
   "metadata": {},
   "outputs": [
    {
     "data": {
      "text/plain": [
       "14"
      ]
     },
     "execution_count": 62,
     "metadata": {},
     "output_type": "execute_result"
    }
   ],
   "source": [
    "x -= 2\n",
    "x"
   ]
  },
  {
   "cell_type": "code",
   "execution_count": 63,
   "id": "a7d000c9-fe53-4389-b321-a56df96d69ae",
   "metadata": {},
   "outputs": [
    {
     "data": {
      "text/plain": [
       "7.0"
      ]
     },
     "execution_count": 63,
     "metadata": {},
     "output_type": "execute_result"
    }
   ],
   "source": [
    "x /= 2\n",
    "x"
   ]
  },
  {
   "cell_type": "code",
   "execution_count": 64,
   "id": "a9a8578d-3e92-4d2f-a24a-ffd8fb68da34",
   "metadata": {},
   "outputs": [
    {
     "data": {
      "text/plain": [
       "3.0"
      ]
     },
     "execution_count": 64,
     "metadata": {},
     "output_type": "execute_result"
    }
   ],
   "source": [
    "x //= 2\n",
    "x"
   ]
  },
  {
   "cell_type": "markdown",
   "id": "66aa4ce5-dbe0-4dfc-a3d3-9b98b38b5b66",
   "metadata": {},
   "source": [
    "Unary operator"
   ]
  },
  {
   "cell_type": "code",
   "execution_count": 65,
   "id": "6461b511-756d-4184-bf10-d27d4a5edda5",
   "metadata": {},
   "outputs": [
    {
     "data": {
      "text/plain": [
       "7"
      ]
     },
     "execution_count": 65,
     "metadata": {},
     "output_type": "execute_result"
    }
   ],
   "source": [
    "n = 7\n",
    "n"
   ]
  },
  {
   "cell_type": "code",
   "execution_count": 66,
   "id": "0ea595df-693a-4cdf-9534-49e25901c04e",
   "metadata": {},
   "outputs": [
    {
     "data": {
      "text/plain": [
       "-7"
      ]
     },
     "execution_count": 66,
     "metadata": {},
     "output_type": "execute_result"
    }
   ],
   "source": [
    "m = - (n)\n",
    "m"
   ]
  },
  {
   "cell_type": "markdown",
   "id": "04ad9e96-f583-445e-aba7-cc4f0a03d10f",
   "metadata": {},
   "source": [
    "Relational operator"
   ]
  },
  {
   "cell_type": "code",
   "execution_count": 67,
   "id": "f80e43e9-67a1-4932-b484-c9ff8ee27577",
   "metadata": {},
   "outputs": [],
   "source": [
    "a = 5\n",
    "b = 6"
   ]
  },
  {
   "cell_type": "code",
   "execution_count": 69,
   "id": "959f329e-3e95-4c53-adba-fda0a72580dd",
   "metadata": {},
   "outputs": [
    {
     "data": {
      "text/plain": [
       "True"
      ]
     },
     "execution_count": 69,
     "metadata": {},
     "output_type": "execute_result"
    }
   ],
   "source": [
    "a<b"
   ]
  },
  {
   "cell_type": "code",
   "execution_count": 70,
   "id": "311f4226-9444-471b-9960-770c2b3772d3",
   "metadata": {},
   "outputs": [
    {
     "data": {
      "text/plain": [
       "False"
      ]
     },
     "execution_count": 70,
     "metadata": {},
     "output_type": "execute_result"
    }
   ],
   "source": [
    "a>b"
   ]
  },
  {
   "cell_type": "code",
   "execution_count": 71,
   "id": "9fe47e91-1953-4538-a8be-43405e24eadc",
   "metadata": {},
   "outputs": [
    {
     "data": {
      "text/plain": [
       "False"
      ]
     },
     "execution_count": 71,
     "metadata": {},
     "output_type": "execute_result"
    }
   ],
   "source": [
    "a == b"
   ]
  },
  {
   "cell_type": "code",
   "execution_count": 72,
   "id": "ecca584a-08e6-4017-b10f-1d24d283382a",
   "metadata": {},
   "outputs": [
    {
     "data": {
      "text/plain": [
       "True"
      ]
     },
     "execution_count": 72,
     "metadata": {},
     "output_type": "execute_result"
    }
   ],
   "source": [
    "a != b"
   ]
  },
  {
   "cell_type": "code",
   "execution_count": 73,
   "id": "ae19e98f-c4bf-4700-b851-94b3e82ebde1",
   "metadata": {},
   "outputs": [
    {
     "data": {
      "text/plain": [
       "False"
      ]
     },
     "execution_count": 73,
     "metadata": {},
     "output_type": "execute_result"
    }
   ],
   "source": [
    "a>= b"
   ]
  },
  {
   "cell_type": "code",
   "execution_count": 74,
   "id": "c8d6f2fa-065e-43e4-bb87-2d1c8d3a3976",
   "metadata": {},
   "outputs": [
    {
     "data": {
      "text/plain": [
       "True"
      ]
     },
     "execution_count": 74,
     "metadata": {},
     "output_type": "execute_result"
    }
   ],
   "source": [
    "a <= b"
   ]
  },
  {
   "cell_type": "code",
   "execution_count": 75,
   "id": "88c7f85a-379d-4e06-965d-db7f3f2430d4",
   "metadata": {},
   "outputs": [],
   "source": [
    "b = 7"
   ]
  },
  {
   "cell_type": "code",
   "execution_count": 76,
   "id": "238bfa1f-4e7c-4f88-a6f0-074ddc3b81df",
   "metadata": {},
   "outputs": [
    {
     "data": {
      "text/plain": [
       "True"
      ]
     },
     "execution_count": 76,
     "metadata": {},
     "output_type": "execute_result"
    }
   ],
   "source": [
    "a != b"
   ]
  },
  {
   "cell_type": "markdown",
   "id": "97300257-ae22-42cd-abe3-a44372b72492",
   "metadata": {},
   "source": [
    "Logical operator"
   ]
  },
  {
   "cell_type": "code",
   "execution_count": 77,
   "id": "5a1aab97-a990-4c26-ae10-0457707cd4f8",
   "metadata": {},
   "outputs": [],
   "source": [
    "a = 5\n",
    "b = 4"
   ]
  },
  {
   "cell_type": "code",
   "execution_count": 78,
   "id": "dd72a3be-a929-44fd-8d5e-1acf23ab425b",
   "metadata": {},
   "outputs": [
    {
     "data": {
      "text/plain": [
       "True"
      ]
     },
     "execution_count": 78,
     "metadata": {},
     "output_type": "execute_result"
    }
   ],
   "source": [
    "a < 8 and b < 5"
   ]
  },
  {
   "cell_type": "code",
   "execution_count": 79,
   "id": "164f9e9e-1c61-43b0-acaf-f367e63f584e",
   "metadata": {},
   "outputs": [
    {
     "data": {
      "text/plain": [
       "False"
      ]
     },
     "execution_count": 79,
     "metadata": {},
     "output_type": "execute_result"
    }
   ],
   "source": [
    "a < 8 and b < 2"
   ]
  },
  {
   "cell_type": "code",
   "execution_count": 80,
   "id": "335472aa-39c8-4575-a90e-a958af61aea8",
   "metadata": {},
   "outputs": [
    {
     "data": {
      "text/plain": [
       "True"
      ]
     },
     "execution_count": 80,
     "metadata": {},
     "output_type": "execute_result"
    }
   ],
   "source": [
    "a < 8 or b < 2"
   ]
  },
  {
   "cell_type": "code",
   "execution_count": 81,
   "id": "5ca46079-e937-4217-9525-63ca69a0b96a",
   "metadata": {},
   "outputs": [
    {
     "data": {
      "text/plain": [
       "False"
      ]
     },
     "execution_count": 81,
     "metadata": {},
     "output_type": "execute_result"
    }
   ],
   "source": [
    "a>8 or b<2"
   ]
  },
  {
   "cell_type": "code",
   "execution_count": 82,
   "id": "3ffee81f-2c39-4062-84cf-f3516a66d363",
   "metadata": {},
   "outputs": [
    {
     "data": {
      "text/plain": [
       "False"
      ]
     },
     "execution_count": 82,
     "metadata": {},
     "output_type": "execute_result"
    }
   ],
   "source": [
    "x = False\n",
    "x"
   ]
  },
  {
   "cell_type": "code",
   "execution_count": 83,
   "id": "099f03cd-8ced-4b51-8e49-023dd7133ac4",
   "metadata": {},
   "outputs": [
    {
     "data": {
      "text/plain": [
       "True"
      ]
     },
     "execution_count": 83,
     "metadata": {},
     "output_type": "execute_result"
    }
   ],
   "source": [
    "x = not x\n",
    "x"
   ]
  },
  {
   "cell_type": "code",
   "execution_count": 84,
   "id": "0edffeda-9e98-4bae-8344-fc251455853d",
   "metadata": {},
   "outputs": [
    {
     "data": {
      "text/plain": [
       "True"
      ]
     },
     "execution_count": 84,
     "metadata": {},
     "output_type": "execute_result"
    }
   ],
   "source": [
    "x"
   ]
  },
  {
   "cell_type": "code",
   "execution_count": 85,
   "id": "feb2cfa9-972f-40c8-b3c2-e48d55d00cce",
   "metadata": {},
   "outputs": [
    {
     "data": {
      "text/plain": [
       "False"
      ]
     },
     "execution_count": 85,
     "metadata": {},
     "output_type": "execute_result"
    }
   ],
   "source": [
    "not x"
   ]
  },
  {
   "cell_type": "markdown",
   "id": "ec5d2178-be4e-4813-a2ad-c4e4587211a1",
   "metadata": {},
   "source": [
    "Complement (~)"
   ]
  },
  {
   "cell_type": "code",
   "execution_count": 86,
   "id": "cf92e67d-3197-402b-be3f-0ea7ad733b8a",
   "metadata": {},
   "outputs": [
    {
     "data": {
      "text/plain": [
       "-13"
      ]
     },
     "execution_count": 86,
     "metadata": {},
     "output_type": "execute_result"
    }
   ],
   "source": [
    "~12"
   ]
  },
  {
   "cell_type": "code",
   "execution_count": 87,
   "id": "bc1094de-96fd-4db5-9ca9-fc5949552073",
   "metadata": {},
   "outputs": [
    {
     "data": {
      "text/plain": [
       "-47"
      ]
     },
     "execution_count": 87,
     "metadata": {},
     "output_type": "execute_result"
    }
   ],
   "source": [
    "~46"
   ]
  },
  {
   "cell_type": "code",
   "execution_count": 88,
   "id": "83b45107-8c18-45e1-b1ae-64452add1875",
   "metadata": {},
   "outputs": [
    {
     "data": {
      "text/plain": [
       "-55"
      ]
     },
     "execution_count": 88,
     "metadata": {},
     "output_type": "execute_result"
    }
   ],
   "source": [
    "~54"
   ]
  },
  {
   "cell_type": "code",
   "execution_count": 89,
   "id": "69218486-addc-45b4-a2a4-3ea725860bd5",
   "metadata": {},
   "outputs": [
    {
     "data": {
      "text/plain": [
       "-11"
      ]
     },
     "execution_count": 89,
     "metadata": {},
     "output_type": "execute_result"
    }
   ],
   "source": [
    "~10"
   ]
  },
  {
   "cell_type": "markdown",
   "id": "a85b63eb-c38b-4122-b2ef-59c191b2d2e2",
   "metadata": {},
   "source": [
    "Binary number system"
   ]
  },
  {
   "cell_type": "code",
   "execution_count": 90,
   "id": "5598685e-8fcd-4a07-8512-37a5ecfea609",
   "metadata": {},
   "outputs": [
    {
     "data": {
      "text/plain": [
       "25"
      ]
     },
     "execution_count": 90,
     "metadata": {},
     "output_type": "execute_result"
    }
   ],
   "source": [
    "25"
   ]
  },
  {
   "cell_type": "code",
   "execution_count": 91,
   "id": "c5effb05-0b35-43ad-8abe-cf362e3bf105",
   "metadata": {},
   "outputs": [
    {
     "data": {
      "text/plain": [
       "'0b11001'"
      ]
     },
     "execution_count": 91,
     "metadata": {},
     "output_type": "execute_result"
    }
   ],
   "source": [
    "bin(25)"
   ]
  },
  {
   "cell_type": "code",
   "execution_count": 93,
   "id": "2d8be111-eb1f-491d-97cc-7d8ffe776050",
   "metadata": {},
   "outputs": [
    {
     "data": {
      "text/plain": [
       "25"
      ]
     },
     "execution_count": 93,
     "metadata": {},
     "output_type": "execute_result"
    }
   ],
   "source": [
    "0b11001"
   ]
  },
  {
   "cell_type": "markdown",
   "id": "1cd58bcc-e58e-44b2-8bdf-f774ec14875c",
   "metadata": {},
   "source": [
    "20. Arithmatic operator"
   ]
  },
  {
   "cell_type": "code",
   "execution_count": 2,
   "id": "5327493e-4815-438e-a9f0-a5b5cbb8ae71",
   "metadata": {},
   "outputs": [],
   "source": [
    "a = 10\n",
    "b = 3"
   ]
  },
  {
   "cell_type": "code",
   "execution_count": 3,
   "id": "8927fe73-8f41-4d26-a320-ee8fe599688d",
   "metadata": {},
   "outputs": [
    {
     "name": "stdout",
     "output_type": "stream",
     "text": [
      "13\n"
     ]
    }
   ],
   "source": [
    "print(a + b)"
   ]
  },
  {
   "cell_type": "code",
   "execution_count": null,
   "id": "73b522ac-1833-4702-b7a0-39b6e81fa493",
   "metadata": {},
   "outputs": [],
   "source": [
    "a = 10\n",
    "b = 3"
   ]
  },
  {
   "cell_type": "code",
   "execution_count": 4,
   "id": "55afa936-61df-42d6-b055-21f0fd03144d",
   "metadata": {},
   "outputs": [
    {
     "name": "stdout",
     "output_type": "stream",
     "text": [
      "7\n"
     ]
    }
   ],
   "source": [
    "print(a - b)"
   ]
  },
  {
   "cell_type": "code",
   "execution_count": 5,
   "id": "57266c69-d21e-4c24-9d1f-6903edcce1d2",
   "metadata": {},
   "outputs": [],
   "source": [
    "a = 4\n",
    "b = 21"
   ]
  },
  {
   "cell_type": "code",
   "execution_count": 6,
   "id": "d80426b4-f2b7-4a80-a499-d72a0c225a18",
   "metadata": {},
   "outputs": [
    {
     "name": "stdout",
     "output_type": "stream",
     "text": [
      "84\n"
     ]
    }
   ],
   "source": [
    "print(a * b)"
   ]
  },
  {
   "cell_type": "code",
   "execution_count": 9,
   "id": "2502c048-5290-4312-8ed6-e6db07109eef",
   "metadata": {},
   "outputs": [],
   "source": [
    "a = 8\n",
    "b = 5"
   ]
  },
  {
   "cell_type": "code",
   "execution_count": 10,
   "id": "dc49caa1-0552-4edc-88e2-fcd320ba2050",
   "metadata": {},
   "outputs": [
    {
     "name": "stdout",
     "output_type": "stream",
     "text": [
      "1.6\n"
     ]
    }
   ],
   "source": [
    "print(a / b)"
   ]
  },
  {
   "cell_type": "code",
   "execution_count": 15,
   "id": "cffe9bdd-944e-4794-bc3c-d430d8bfddbe",
   "metadata": {},
   "outputs": [],
   "source": [
    "a = 10\n",
    "b = 3"
   ]
  },
  {
   "cell_type": "code",
   "execution_count": 16,
   "id": "89d2f1cc-700a-42f4-b2d2-653b82680ae9",
   "metadata": {},
   "outputs": [
    {
     "name": "stdout",
     "output_type": "stream",
     "text": [
      "3\n"
     ]
    }
   ],
   "source": [
    "print(a // b)"
   ]
  },
  {
   "cell_type": "code",
   "execution_count": 17,
   "id": "a1a51437-0d36-441e-8807-4098d29df0bc",
   "metadata": {},
   "outputs": [],
   "source": [
    "a = 2 \n",
    "b = 5"
   ]
  },
  {
   "cell_type": "code",
   "execution_count": 18,
   "id": "a9f418f2-8a67-4957-a897-de0ae4e42f4e",
   "metadata": {},
   "outputs": [
    {
     "name": "stdout",
     "output_type": "stream",
     "text": [
      "32\n"
     ]
    }
   ],
   "source": [
    "print(a ** b)"
   ]
  },
  {
   "cell_type": "code",
   "execution_count": 19,
   "id": "fd57e8d5-0ebc-4eff-ad7c-7cf9836b7b83",
   "metadata": {},
   "outputs": [],
   "source": [
    "x = (10+5) * 2\n",
    "y = (20-4) / 2\n",
    "z = 2 ** 3 + 4 % 3"
   ]
  },
  {
   "cell_type": "code",
   "execution_count": 20,
   "id": "b7f77369-4133-49d0-b292-548bfaa92bc8",
   "metadata": {},
   "outputs": [
    {
     "name": "stdout",
     "output_type": "stream",
     "text": [
      "x = 30\n",
      "y = 8.0\n",
      "z = 9\n"
     ]
    }
   ],
   "source": [
    "print(\"x =\", x)\n",
    "print(\"y =\", y)\n",
    "print(\"z =\", z)"
   ]
  },
  {
   "cell_type": "code",
   "execution_count": 22,
   "id": "76ca5f56-7ddb-440d-a222-15da0657c721",
   "metadata": {},
   "outputs": [],
   "source": [
    "price = 250\n",
    "discount = 20\n",
    "\n",
    "final_price = price - (price * discount / 100)"
   ]
  },
  {
   "cell_type": "code",
   "execution_count": 24,
   "id": "5ad34eb9-5737-42f5-83fe-68faa30e0234",
   "metadata": {},
   "outputs": [
    {
     "name": "stdout",
     "output_type": "stream",
     "text": [
      "final price: 200.0\n"
     ]
    }
   ],
   "source": [
    "print(\"final price:\",final_price)"
   ]
  },
  {
   "cell_type": "markdown",
   "id": "0ebc0055-3ec3-4ab3-9fa7-82ac75c39fba",
   "metadata": {},
   "source": [
    "Assignment operator"
   ]
  },
  {
   "cell_type": "code",
   "execution_count": 25,
   "id": "1dee1756-5bb1-4166-a2cf-d45c6433ad41",
   "metadata": {},
   "outputs": [],
   "source": [
    "x = 10"
   ]
  },
  {
   "cell_type": "code",
   "execution_count": 26,
   "id": "a9cbbd6d-1bbe-47e2-99b0-f8276c838281",
   "metadata": {},
   "outputs": [
    {
     "name": "stdout",
     "output_type": "stream",
     "text": [
      "10\n"
     ]
    }
   ],
   "source": [
    "print(x)"
   ]
  },
  {
   "cell_type": "code",
   "execution_count": 27,
   "id": "198f4018-5e52-4845-8083-356cffacbbd5",
   "metadata": {},
   "outputs": [],
   "source": [
    "x += 5"
   ]
  },
  {
   "cell_type": "code",
   "execution_count": 29,
   "id": "be0c3614-8ec7-4e81-acdf-b7bf820b051e",
   "metadata": {},
   "outputs": [
    {
     "data": {
      "text/plain": [
       "15"
      ]
     },
     "execution_count": 29,
     "metadata": {},
     "output_type": "execute_result"
    }
   ],
   "source": [
    "x"
   ]
  },
  {
   "cell_type": "code",
   "execution_count": 30,
   "id": "7f39fb82-7395-4cd3-972f-fe0407dddbc8",
   "metadata": {},
   "outputs": [],
   "source": [
    "x -= 12"
   ]
  },
  {
   "cell_type": "code",
   "execution_count": 31,
   "id": "96e036b1-dbdc-420c-8421-435495470e4c",
   "metadata": {},
   "outputs": [
    {
     "data": {
      "text/plain": [
       "3"
      ]
     },
     "execution_count": 31,
     "metadata": {},
     "output_type": "execute_result"
    }
   ],
   "source": [
    "x"
   ]
  },
  {
   "cell_type": "code",
   "execution_count": 34,
   "id": "30c0190f-2a3c-4db8-a888-6739fd92d6b7",
   "metadata": {},
   "outputs": [],
   "source": [
    "x /= 5"
   ]
  },
  {
   "cell_type": "code",
   "execution_count": 35,
   "id": "0be89fea-04b2-4972-9fc1-64db7b645d99",
   "metadata": {},
   "outputs": [
    {
     "data": {
      "text/plain": [
       "0.024"
      ]
     },
     "execution_count": 35,
     "metadata": {},
     "output_type": "execute_result"
    }
   ],
   "source": [
    "x"
   ]
  },
  {
   "cell_type": "code",
   "execution_count": 36,
   "id": "25f2d956-1150-40bd-ae4c-3a67171cddb8",
   "metadata": {},
   "outputs": [],
   "source": [
    "x //= 8"
   ]
  },
  {
   "cell_type": "code",
   "execution_count": 37,
   "id": "49f06698-102e-4729-b4bb-e2d3600195f6",
   "metadata": {},
   "outputs": [
    {
     "data": {
      "text/plain": [
       "0.0"
      ]
     },
     "execution_count": 37,
     "metadata": {},
     "output_type": "execute_result"
    }
   ],
   "source": [
    "x"
   ]
  },
  {
   "cell_type": "markdown",
   "id": "e7e9e1ef-c5a8-4bf6-8500-ab736cf31a7d",
   "metadata": {},
   "source": [
    "Relational operator"
   ]
  },
  {
   "cell_type": "code",
   "execution_count": 5,
   "id": "82a549e6-1217-4ffb-ad74-80e1598cf4df",
   "metadata": {},
   "outputs": [],
   "source": [
    "a = 10\n",
    "b = 20"
   ]
  },
  {
   "cell_type": "code",
   "execution_count": 6,
   "id": "321ea5ce-3f91-4894-986c-6eac9e0399bd",
   "metadata": {},
   "outputs": [
    {
     "name": "stdout",
     "output_type": "stream",
     "text": [
      "a == b : False\n"
     ]
    }
   ],
   "source": [
    "print(\"a == b :\", a == b)"
   ]
  },
  {
   "cell_type": "code",
   "execution_count": 8,
   "id": "072c9382-545e-4398-beba-f49c7f75d790",
   "metadata": {},
   "outputs": [
    {
     "name": "stdout",
     "output_type": "stream",
     "text": [
      "a != b : True\n"
     ]
    }
   ],
   "source": [
    "print(\"a != b :\", a != b)"
   ]
  },
  {
   "cell_type": "code",
   "execution_count": 10,
   "id": "9da5f807-990b-4d49-bd7a-77b01113b004",
   "metadata": {},
   "outputs": [
    {
     "name": "stdout",
     "output_type": "stream",
     "text": [
      "a > b : False\n"
     ]
    }
   ],
   "source": [
    "print(\"a > b :\", a > b)"
   ]
  },
  {
   "cell_type": "code",
   "execution_count": 11,
   "id": "03d2f83c-3ca6-4d10-834b-62f4582ea589",
   "metadata": {},
   "outputs": [
    {
     "name": "stdout",
     "output_type": "stream",
     "text": [
      "a < b : True\n"
     ]
    }
   ],
   "source": [
    "print(\"a < b :\", a < b)"
   ]
  },
  {
   "cell_type": "code",
   "execution_count": 12,
   "id": "30634fab-b1d7-4414-b98e-f3b806d75c77",
   "metadata": {},
   "outputs": [
    {
     "name": "stdout",
     "output_type": "stream",
     "text": [
      "a >= b : False\n"
     ]
    }
   ],
   "source": [
    "print(\"a >= b :\", a >= b)"
   ]
  },
  {
   "cell_type": "code",
   "execution_count": 13,
   "id": "264290b6-f472-439e-8f48-1cb6b1ad109a",
   "metadata": {},
   "outputs": [
    {
     "name": "stdout",
     "output_type": "stream",
     "text": [
      "a <= b : True\n"
     ]
    }
   ],
   "source": [
    "print(\"a <= b :\", a <= b)"
   ]
  },
  {
   "cell_type": "code",
   "execution_count": 14,
   "id": "e278e08b-0bd4-466f-a473-778925c2791c",
   "metadata": {},
   "outputs": [],
   "source": [
    "x = 5\n",
    "y = 5\n",
    "y = 10"
   ]
  },
  {
   "cell_type": "code",
   "execution_count": 16,
   "id": "47121d20-2ef1-4158-8778-41267ab0caaf",
   "metadata": {},
   "outputs": [
    {
     "name": "stdout",
     "output_type": "stream",
     "text": [
      "False\n"
     ]
    }
   ],
   "source": [
    "print(x == y)"
   ]
  },
  {
   "cell_type": "code",
   "execution_count": 21,
   "id": "37c950dc-79c5-4b74-83fa-f919e416e09b",
   "metadata": {},
   "outputs": [],
   "source": [
    "name1 = \"apple\"\n",
    "name2 = \"banana\""
   ]
  },
  {
   "cell_type": "code",
   "execution_count": 22,
   "id": "adf17ba6-02dd-44d9-827a-facef7bb0dc5",
   "metadata": {},
   "outputs": [
    {
     "name": "stdout",
     "output_type": "stream",
     "text": [
      "False\n"
     ]
    }
   ],
   "source": [
    "print(name1 == name2)"
   ]
  },
  {
   "cell_type": "code",
   "execution_count": 23,
   "id": "a727606a-e685-433c-b7a6-ddf18a0fa929",
   "metadata": {},
   "outputs": [
    {
     "name": "stdout",
     "output_type": "stream",
     "text": [
      "True\n"
     ]
    }
   ],
   "source": [
    "print(name1 != name2)"
   ]
  },
  {
   "cell_type": "code",
   "execution_count": 25,
   "id": "c4f0e5f4-639c-478a-8630-c59ce9cfcffd",
   "metadata": {},
   "outputs": [
    {
     "name": "stdout",
     "output_type": "stream",
     "text": [
      "True\n"
     ]
    }
   ],
   "source": [
    "print(name1 < name2)"
   ]
  },
  {
   "cell_type": "code",
   "execution_count": 26,
   "id": "02311136-9afd-4cbb-acf0-243c1eaeb3c9",
   "metadata": {},
   "outputs": [
    {
     "name": "stdout",
     "output_type": "stream",
     "text": [
      "you are eligible to vote.\n"
     ]
    }
   ],
   "source": [
    "age = 38\n",
    "\n",
    "if age >= 18:\n",
    "    print (\"you are eligible to vote.\")\n",
    "else:\n",
    "    print(\"you are not eligible to vote.\")"
   ]
  },
  {
   "cell_type": "markdown",
   "id": "1cf800f1-5cbd-40aa-bbb5-8ef211e3bde3",
   "metadata": {},
   "source": [
    "Logical operator"
   ]
  },
  {
   "cell_type": "code",
   "execution_count": 27,
   "id": "c17ddb23-7ef2-4083-acd0-336dd44666c7",
   "metadata": {},
   "outputs": [],
   "source": [
    "x = 5\n",
    "y = 10"
   ]
  },
  {
   "cell_type": "code",
   "execution_count": 28,
   "id": "40a07a98-b46e-40a4-8a27-89104f698a38",
   "metadata": {},
   "outputs": [
    {
     "name": "stdout",
     "output_type": "stream",
     "text": [
      "True\n"
     ]
    }
   ],
   "source": [
    "print(x > 0 and y > 5)"
   ]
  },
  {
   "cell_type": "code",
   "execution_count": 29,
   "id": "4da14d43-dce1-438f-9754-60d441672187",
   "metadata": {},
   "outputs": [
    {
     "name": "stdout",
     "output_type": "stream",
     "text": [
      "False\n"
     ]
    }
   ],
   "source": [
    "print(x > 0 and y < 5)"
   ]
  },
  {
   "cell_type": "code",
   "execution_count": 30,
   "id": "1e78fa0a-d26d-407c-acfe-17d78a6266fa",
   "metadata": {},
   "outputs": [
    {
     "name": "stdout",
     "output_type": "stream",
     "text": [
      "False\n"
     ]
    }
   ],
   "source": [
    "print(x < 0 and y > 5)"
   ]
  },
  {
   "cell_type": "code",
   "execution_count": 37,
   "id": "0633fb37-a144-4f03-a890-676f787759ba",
   "metadata": {},
   "outputs": [],
   "source": [
    "x = 5\n",
    "y = 10"
   ]
  },
  {
   "cell_type": "code",
   "execution_count": 38,
   "id": "22b8afa4-4478-466c-aa78-1073b2b030b8",
   "metadata": {},
   "outputs": [
    {
     "name": "stdout",
     "output_type": "stream",
     "text": [
      "True\n"
     ]
    }
   ],
   "source": [
    "print(x > 0 or y > 15)"
   ]
  },
  {
   "cell_type": "code",
   "execution_count": 39,
   "id": "b19b593c-6c28-4d73-99e2-ffebbc0b1bc1",
   "metadata": {},
   "outputs": [
    {
     "name": "stdout",
     "output_type": "stream",
     "text": [
      "True\n"
     ]
    }
   ],
   "source": [
    "print(x > 0 or y < 5)"
   ]
  },
  {
   "cell_type": "code",
   "execution_count": 40,
   "id": "6ebf0a8a-2430-4723-b5f1-07dd2c3bef25",
   "metadata": {},
   "outputs": [
    {
     "name": "stdout",
     "output_type": "stream",
     "text": [
      "False\n"
     ]
    }
   ],
   "source": [
    "print(x < 0 or y < 5)"
   ]
  },
  {
   "cell_type": "code",
   "execution_count": 41,
   "id": "00e9c97b-5e22-4b73-afef-40b47c9e63be",
   "metadata": {},
   "outputs": [],
   "source": [
    "x = 10"
   ]
  },
  {
   "cell_type": "code",
   "execution_count": 42,
   "id": "d30cbea4-7382-4922-9779-db1645d20025",
   "metadata": {},
   "outputs": [
    {
     "name": "stdout",
     "output_type": "stream",
     "text": [
      "False\n"
     ]
    }
   ],
   "source": [
    "print(not(x > 5))"
   ]
  },
  {
   "cell_type": "code",
   "execution_count": 43,
   "id": "6ba0b57f-725d-44a3-9942-061d866ec00c",
   "metadata": {},
   "outputs": [
    {
     "name": "stdout",
     "output_type": "stream",
     "text": [
      "True\n"
     ]
    }
   ],
   "source": [
    "print(not(x< 5))"
   ]
  },
  {
   "cell_type": "code",
   "execution_count": 44,
   "id": "08056307-3950-4313-9913-bcdcc206d52f",
   "metadata": {},
   "outputs": [],
   "source": [
    "a = 8\n",
    "b = 12\n",
    "c = 20"
   ]
  },
  {
   "cell_type": "code",
   "execution_count": 47,
   "id": "f97bfddf-bab9-4c8b-89b2-33555865add7",
   "metadata": {},
   "outputs": [
    {
     "name": "stdout",
     "output_type": "stream",
     "text": [
      "condition is true\n"
     ]
    }
   ],
   "source": [
    "if (a < b and b < c) or not(a == 10):\n",
    "    print(\"condition is true\")\n",
    "else:\n",
    "    print(\"condition is false\")"
   ]
  },
  {
   "cell_type": "code",
   "execution_count": 59,
   "id": "ffd47cf4-c884-41ec-9dff-7c78b31e6b6a",
   "metadata": {},
   "outputs": [
    {
     "name": "stdout",
     "output_type": "stream",
     "text": [
      "You are eligible for the exam.\n"
     ]
    }
   ],
   "source": [
    "attendance = 85\n",
    "internal_marks = 25\n",
    "\n",
    "if attendance >= 75 and internal_marks >= 20:\n",
    "    print(\"You are eligible for the exam.\")\n",
    "else:\n",
    "    print(\"You are not eligible for the exam.\")\n"
   ]
  },
  {
   "cell_type": "code",
   "execution_count": 60,
   "id": "609826d4-2110-4e5a-875f-672abe82f85f",
   "metadata": {},
   "outputs": [
    {
     "name": "stdout",
     "output_type": "stream",
     "text": [
      "Better stay indoors!\n"
     ]
    }
   ],
   "source": [
    "temperature = 35\n",
    "rain = True\n",
    "\n",
    "if temperature > 30 or rain:\n",
    "    print(\"Better stay indoors!\")\n",
    "else:\n",
    "    print(\"You can go out safely.\")"
   ]
  },
  {
   "cell_type": "code",
   "execution_count": 61,
   "id": "bd259ae8-4db9-4589-b347-d7223ee6461c",
   "metadata": {},
   "outputs": [
    {
     "name": "stdout",
     "output_type": "stream",
     "text": [
      "You can drive.\n"
     ]
    }
   ],
   "source": [
    "age = 17\n",
    "has_permit = True\n",
    "\n",
    "if age >= 18 or has_permit:\n",
    "    print(\"You can drive.\")\n",
    "else:\n",
    "    print(\"You cannot drive.\")"
   ]
  },
  {
   "cell_type": "code",
   "execution_count": 62,
   "id": "c4aac99b-7ff0-4b8f-bd33-c8c32cce1f5e",
   "metadata": {},
   "outputs": [
    {
     "name": "stdout",
     "output_type": "stream",
     "text": [
      "Please log in first!\n"
     ]
    }
   ],
   "source": [
    "is_logged_in = False\n",
    "\n",
    "if not is_logged_in:\n",
    "    print(\"Please log in first!\")\n",
    "else:\n",
    "    print(\"Welcome back!\")"
   ]
  },
  {
   "cell_type": "markdown",
   "id": "f4d1d8b6-23dd-4d77-a432-7e5b39756d0e",
   "metadata": {},
   "source": [
    "Unary operator"
   ]
  },
  {
   "cell_type": "code",
   "execution_count": 64,
   "id": "0d58aff3-eb47-4578-8874-78a22030c8da",
   "metadata": {},
   "outputs": [
    {
     "name": "stdout",
     "output_type": "stream",
     "text": [
      "10\n"
     ]
    }
   ],
   "source": [
    "x = 10\n",
    "y = +x\n",
    "\n",
    "print(y)\n"
   ]
  },
  {
   "cell_type": "code",
   "execution_count": 65,
   "id": "5b7732d1-d3a3-49b4-818d-f4d4c986f086",
   "metadata": {},
   "outputs": [
    {
     "name": "stdout",
     "output_type": "stream",
     "text": [
      "-10\n"
     ]
    }
   ],
   "source": [
    "x = 10\n",
    "y = -x   \n",
    "\n",
    "print(y)\n"
   ]
  },
  {
   "cell_type": "code",
   "execution_count": 66,
   "id": "ad33cc5c-1e7b-42ad-a1fb-221c32a56d85",
   "metadata": {},
   "outputs": [
    {
     "name": "stdout",
     "output_type": "stream",
     "text": [
      "5\n"
     ]
    }
   ],
   "source": [
    "x = -5\n",
    "y = -x\n",
    "\n",
    "print(y)\n"
   ]
  },
  {
   "cell_type": "code",
   "execution_count": 67,
   "id": "bb020c69-9d76-4e37-afb8-047703fe17e8",
   "metadata": {},
   "outputs": [
    {
     "name": "stdout",
     "output_type": "stream",
     "text": [
      "False\n"
     ]
    }
   ],
   "source": [
    "is_raining = True\n",
    "\n",
    "print(not is_raining)\n"
   ]
  },
  {
   "cell_type": "code",
   "execution_count": 68,
   "id": "28225aa3-5854-4a82-b991-5ffee1403205",
   "metadata": {},
   "outputs": [
    {
     "name": "stdout",
     "output_type": "stream",
     "text": [
      "5\n"
     ]
    }
   ],
   "source": [
    "a = 5\n",
    "b = -a + 10   \n",
    "print(b)\n"
   ]
  },
  {
   "cell_type": "code",
   "execution_count": 69,
   "id": "e53e3fa5-e4a9-4439-9c62-ee576f87504e",
   "metadata": {},
   "outputs": [
    {
     "name": "stdout",
     "output_type": "stream",
     "text": [
      "x = True\n",
      "y = False\n"
     ]
    }
   ],
   "source": [
    "x = True\n",
    "y = not x\n",
    "\n",
    "print(\"x =\", x)\n",
    "print(\"y =\", y)\n"
   ]
  },
  {
   "cell_type": "code",
   "execution_count": 70,
   "id": "d09e674c-b351-496b-b9f2-710005b1d8fe",
   "metadata": {},
   "outputs": [
    {
     "name": "stdout",
     "output_type": "stream",
     "text": [
      "8\n"
     ]
    }
   ],
   "source": [
    "a = 4\n",
    "b = -2\n",
    "result = +a * -b   \n",
    "\n",
    "print(result)\n"
   ]
  },
  {
   "cell_type": "markdown",
   "id": "ee797ad7-1ac0-4822-994e-e36ce2c170c5",
   "metadata": {},
   "source": [
    "Python bitwise operator"
   ]
  },
  {
   "cell_type": "code",
   "execution_count": null,
   "id": "34611e7d-0d91-498a-9448-0ed058af1314",
   "metadata": {},
   "outputs": [],
   "source": [
    "#complement operator"
   ]
  },
  {
   "cell_type": "code",
   "execution_count": 1,
   "id": "5e6f8d66-0782-48d9-a8f2-5ebe61eab89b",
   "metadata": {},
   "outputs": [
    {
     "name": "stdout",
     "output_type": "stream",
     "text": [
      "-6\n"
     ]
    }
   ],
   "source": [
    "x = 5\n",
    "print(~x)"
   ]
  },
  {
   "cell_type": "code",
   "execution_count": 2,
   "id": "1047a4b1-9fc8-4fc4-bac0-cb5abe9fcbf9",
   "metadata": {},
   "outputs": [
    {
     "name": "stdout",
     "output_type": "stream",
     "text": [
      "-11\n"
     ]
    }
   ],
   "source": [
    "x = 10\n",
    "print(~x)\n"
   ]
  },
  {
   "cell_type": "code",
   "execution_count": 3,
   "id": "d2827bd1-ab82-4fc7-831c-8595a78d291e",
   "metadata": {},
   "outputs": [
    {
     "name": "stdout",
     "output_type": "stream",
     "text": [
      "6\n"
     ]
    }
   ],
   "source": [
    "x = -7\n",
    "print(~x)"
   ]
  },
  {
   "cell_type": "code",
   "execution_count": 4,
   "id": "c6e3a21a-0217-4ceb-9cf0-e79fff38a648",
   "metadata": {},
   "outputs": [
    {
     "name": "stdout",
     "output_type": "stream",
     "text": [
      "1\n"
     ]
    }
   ],
   "source": [
    "x = 12 \n",
    "y = 5\n",
    "\n",
    "print(~x & y)"
   ]
  },
  {
   "cell_type": "code",
   "execution_count": 6,
   "id": "a48d26fe-d4d9-49da-b0f4-432880a88191",
   "metadata": {},
   "outputs": [
    {
     "name": "stdout",
     "output_type": "stream",
     "text": [
      "x in binary: 0b101\n",
      "~x in binary: -0b110\n",
      "~x in decimal: -6\n"
     ]
    }
   ],
   "source": [
    "x = 5\n",
    "print(\"x in binary:\", bin(x))\n",
    "print(\"~x in binary:\", bin(~x))\n",
    "print(\"~x in decimal:\", ~x)"
   ]
  },
  {
   "cell_type": "code",
   "execution_count": null,
   "id": "148255e8-dd8a-4ddd-9a4b-a2092997987f",
   "metadata": {},
   "outputs": [],
   "source": [
    "# And operator"
   ]
  },
  {
   "cell_type": "code",
   "execution_count": 7,
   "id": "2fa7a14b-ac17-46b4-b39c-5f738ca6242b",
   "metadata": {},
   "outputs": [
    {
     "name": "stdout",
     "output_type": "stream",
     "text": [
      "both condition are true\n"
     ]
    }
   ],
   "source": [
    "a = 10\n",
    "b = 5\n",
    "\n",
    "if a > 5 and b < 10:\n",
    "    print(\"both condition are true\")\n",
    "else:\n",
    "    print(\"one or both condition are false\") "
   ]
  },
  {
   "cell_type": "code",
   "execution_count": 12,
   "id": "be1541be-9870-415a-9370-7019bd1e2f88",
   "metadata": {},
   "outputs": [
    {
     "name": "stdout",
     "output_type": "stream",
     "text": [
      "Eligible to vote\n"
     ]
    }
   ],
   "source": [
    "age = 20\n",
    "citizen = True\n",
    "\n",
    "if age >= 18 and citizen == True:\n",
    "    print(\"Eligible to vote\")\n",
    "else:\n",
    "    print(\"Not eligible\")\n"
   ]
  },
  {
   "cell_type": "code",
   "execution_count": 13,
   "id": "1e237b62-93a3-455f-a7a9-a1891f39ce5f",
   "metadata": {},
   "outputs": [
    {
     "name": "stdout",
     "output_type": "stream",
     "text": [
      "1\n"
     ]
    }
   ],
   "source": [
    "a = 5\n",
    "b = 3\n",
    "\n",
    "print(a & b)"
   ]
  },
  {
   "cell_type": "code",
   "execution_count": 15,
   "id": "b6367873-9c7d-4816-8ecc-3fb6b1046e55",
   "metadata": {},
   "outputs": [
    {
     "name": "stdout",
     "output_type": "stream",
     "text": [
      "8\n"
     ]
    }
   ],
   "source": [
    "a = 12\n",
    "b = 10\n",
    "print(a & b)"
   ]
  },
  {
   "cell_type": "code",
   "execution_count": 16,
   "id": "5ad88fba-8f1d-4a77-9ed1-975889232f2c",
   "metadata": {},
   "outputs": [
    {
     "name": "stdout",
     "output_type": "stream",
     "text": [
      "a in binary: 0b111\n",
      "b in binary: 0b110\n",
      "a & b = 6\n",
      "Result in binary: 0b110\n"
     ]
    }
   ],
   "source": [
    "a = 7\n",
    "b = 6\n",
    "\n",
    "print(\"a in binary:\", bin(a))\n",
    "print(\"b in binary:\", bin(b))\n",
    "print(\"a & b =\", a & b)\n",
    "print(\"Result in binary:\", bin(a & b))\n"
   ]
  },
  {
   "cell_type": "code",
   "execution_count": null,
   "id": "39af9fb9-1e95-48d7-ab07-5295b51e9c19",
   "metadata": {},
   "outputs": [],
   "source": [
    "# OR operator"
   ]
  },
  {
   "cell_type": "code",
   "execution_count": 17,
   "id": "b1bcf869-2fa0-48e0-aef6-24f5f1e258c5",
   "metadata": {},
   "outputs": [
    {
     "name": "stdout",
     "output_type": "stream",
     "text": [
      "At least one condition is True\n"
     ]
    }
   ],
   "source": [
    "a = 10\n",
    "b = 5\n",
    "\n",
    "if a > 10 or b < 10:\n",
    "    print(\"At least one condition is True\")\n",
    "else:\n",
    "    print(\"Both conditions are False\")\n"
   ]
  },
  {
   "cell_type": "code",
   "execution_count": 18,
   "id": "67624a2f-c863-4cda-8a06-393eb4bf3b85",
   "metadata": {},
   "outputs": [
    {
     "name": "stdout",
     "output_type": "stream",
     "text": [
      "You can enter\n"
     ]
    }
   ],
   "source": [
    "age = 16\n",
    "has_permission = True\n",
    "\n",
    "if age >= 18 or has_permission:\n",
    "    print(\"You can enter\")\n",
    "else:\n",
    "    print(\"Access denied\")\n"
   ]
  },
  {
   "cell_type": "code",
   "execution_count": 19,
   "id": "5aca8ced-6b63-4f37-ae92-927f1e8b1165",
   "metadata": {},
   "outputs": [
    {
     "name": "stdout",
     "output_type": "stream",
     "text": [
      "True\n"
     ]
    }
   ],
   "source": [
    "x = True\n",
    "y = False\n",
    "\n",
    "print(x or y)\n"
   ]
  },
  {
   "cell_type": "code",
   "execution_count": 20,
   "id": "bcba1a23-764b-4564-ab1c-728af677af7b",
   "metadata": {},
   "outputs": [
    {
     "name": "stdout",
     "output_type": "stream",
     "text": [
      "You are close enough!\n"
     ]
    }
   ],
   "source": [
    "marks = 45\n",
    "\n",
    "if marks >= 50 or marks == 45:\n",
    "    print(\"You are close enough!\")\n",
    "else:\n",
    "    print(\"Try again.\")\n"
   ]
  },
  {
   "cell_type": "code",
   "execution_count": null,
   "id": "d2db07d1-808a-42b5-bfed-ee4afd23fc25",
   "metadata": {},
   "outputs": [],
   "source": [
    "#xor "
   ]
  },
  {
   "cell_type": "code",
   "execution_count": 21,
   "id": "d1baf1a4-7c4d-4199-bbfd-a170fe9fcd62",
   "metadata": {},
   "outputs": [
    {
     "name": "stdout",
     "output_type": "stream",
     "text": [
      "6\n"
     ]
    }
   ],
   "source": [
    "a = 5   \n",
    "b = 3   \n",
    "\n",
    "print(a ^ b)\n"
   ]
  },
  {
   "cell_type": "code",
   "execution_count": 22,
   "id": "dbb9e4e6-5a23-468b-b97a-b8533983bdbb",
   "metadata": {},
   "outputs": [
    {
     "name": "stdout",
     "output_type": "stream",
     "text": [
      "0\n"
     ]
    }
   ],
   "source": [
    "x = 7\n",
    "print(x ^ x)\n"
   ]
  },
  {
   "cell_type": "code",
   "execution_count": 23,
   "id": "6fc6aa33-f66e-4d60-8567-e808c603067e",
   "metadata": {},
   "outputs": [
    {
     "name": "stdout",
     "output_type": "stream",
     "text": [
      "8\n"
     ]
    }
   ],
   "source": [
    "x = 8\n",
    "print(x ^ 0)\n"
   ]
  },
  {
   "cell_type": "code",
   "execution_count": 24,
   "id": "2739efbb-1bb9-44ac-92db-4c6f78021618",
   "metadata": {},
   "outputs": [
    {
     "name": "stdout",
     "output_type": "stream",
     "text": [
      "True\n",
      "False\n"
     ]
    }
   ],
   "source": [
    "print(True ^ False)  \n",
    "print(True ^ True)   \n"
   ]
  },
  {
   "cell_type": "code",
   "execution_count": null,
   "id": "a45ebec8-eb8b-4986-aaf2-5500e2dc35ed",
   "metadata": {},
   "outputs": [],
   "source": [
    "#Left shift"
   ]
  },
  {
   "cell_type": "code",
   "execution_count": 25,
   "id": "5b9782ba-f776-4e42-a19c-f8261f4d1094",
   "metadata": {},
   "outputs": [
    {
     "name": "stdout",
     "output_type": "stream",
     "text": [
      "10\n"
     ]
    }
   ],
   "source": [
    "x = 5   \n",
    "print(x << 1)\n"
   ]
  },
  {
   "cell_type": "code",
   "execution_count": 26,
   "id": "cc445dcb-0c67-4f27-80a9-c33729ede0c5",
   "metadata": {},
   "outputs": [
    {
     "name": "stdout",
     "output_type": "stream",
     "text": [
      "12\n"
     ]
    }
   ],
   "source": [
    "x = 3\n",
    "print(x << 2)"
   ]
  },
  {
   "cell_type": "code",
   "execution_count": 27,
   "id": "ff73fcbe-1764-45c9-8e53-dfbabe9f1cbf",
   "metadata": {},
   "outputs": [
    {
     "name": "stdout",
     "output_type": "stream",
     "text": [
      "32\n"
     ]
    }
   ],
   "source": [
    "a = 4\n",
    "b = a << 3\n",
    "print(b)\n"
   ]
  },
  {
   "cell_type": "code",
   "execution_count": null,
   "id": "b3b550f6-e26a-4d23-ae0a-16294287fa6b",
   "metadata": {},
   "outputs": [],
   "source": [
    "#Right shift"
   ]
  },
  {
   "cell_type": "code",
   "execution_count": 28,
   "id": "d0c31827-001c-48ca-bba6-adfb99042d68",
   "metadata": {},
   "outputs": [
    {
     "name": "stdout",
     "output_type": "stream",
     "text": [
      "4\n"
     ]
    }
   ],
   "source": [
    "x = 8\n",
    "print(x >> 1)"
   ]
  },
  {
   "cell_type": "code",
   "execution_count": 29,
   "id": "8a79afb0-d601-4c51-a56f-d2b836d5141c",
   "metadata": {},
   "outputs": [
    {
     "name": "stdout",
     "output_type": "stream",
     "text": [
      "4\n"
     ]
    }
   ],
   "source": [
    "x = 16\n",
    "print(x >> 2)"
   ]
  },
  {
   "cell_type": "code",
   "execution_count": 30,
   "id": "e06c2b37-47c7-44d1-b6b0-6ec2e961479f",
   "metadata": {},
   "outputs": [
    {
     "name": "stdout",
     "output_type": "stream",
     "text": [
      "a ^ b = 14\n",
      "a << 1 = 20\n",
      "a >> 1 = 5\n"
     ]
    }
   ],
   "source": [
    "a = 10  \n",
    "b = 4   \n",
    "\n",
    "print(\"a ^ b =\", a ^ b)    \n",
    "print(\"a << 1 =\", a << 1)  \n",
    "print(\"a >> 1 =\", a >> 1)  \n"
   ]
  },
  {
   "cell_type": "markdown",
   "id": "483bf739-0833-47a3-a38c-a6106b01c5ee",
   "metadata": {},
   "source": [
    "22. List"
   ]
  },
  {
   "cell_type": "code",
   "execution_count": 31,
   "id": "917b5ff3-0031-43a3-9d98-cbe729e61d7f",
   "metadata": {},
   "outputs": [],
   "source": [
    "list1 = []"
   ]
  },
  {
   "cell_type": "code",
   "execution_count": 41,
   "id": "b4701544-2706-4fce-88ed-24b456503678",
   "metadata": {},
   "outputs": [
    {
     "name": "stdout",
     "output_type": "stream",
     "text": [
      "<class 'list'>\n"
     ]
    }
   ],
   "source": [
    "print(type(list1))\n"
   ]
  },
  {
   "cell_type": "code",
   "execution_count": 45,
   "id": "60993cf1-cfce-4673-934c-b985210a5c43",
   "metadata": {},
   "outputs": [
    {
     "name": "stdout",
     "output_type": "stream",
     "text": [
      "[10, 20, 30, 40, 50]\n"
     ]
    }
   ],
   "source": [
    "number = [10,20,30,40,50] \n",
    "print(number)"
   ]
  },
  {
   "cell_type": "code",
   "execution_count": 49,
   "id": "17fab16b-3f09-456d-8122-c44f5c947d89",
   "metadata": {},
   "outputs": [
    {
     "name": "stdout",
     "output_type": "stream",
     "text": [
      "['Mayur', 21, 85.5, True]\n"
     ]
    }
   ],
   "source": [
    "mixed = [\"Mayur\", 21,85.5,True]\n",
    "print(mixed)"
   ]
  },
  {
   "cell_type": "code",
   "execution_count": 51,
   "id": "f7257c71-5b9c-42b1-9c26-544de295cd42",
   "metadata": {},
   "outputs": [
    {
     "data": {
      "text/plain": [
       "list"
      ]
     },
     "execution_count": 51,
     "metadata": {},
     "output_type": "execute_result"
    }
   ],
   "source": [
    "list2 = [10,30,60]\n",
    "list"
   ]
  },
  {
   "cell_type": "code",
   "execution_count": 59,
   "id": "5e7f322d-f29e-4a39-950b-7805f3380619",
   "metadata": {},
   "outputs": [
    {
     "name": "stdout",
     "output_type": "stream",
     "text": [
      "empty_list\n"
     ]
    }
   ],
   "source": [
    "empty_list = []\n",
    "print('empty_list')"
   ]
  },
  {
   "cell_type": "code",
   "execution_count": 58,
   "id": "c32e47c7-9208-4d8d-9b74-237d8c19be15",
   "metadata": {},
   "outputs": [
    {
     "name": "stdout",
     "output_type": "stream",
     "text": [
      "[]\n"
     ]
    }
   ],
   "source": [
    "empty_list = []\n",
    "print(empty_list)\n"
   ]
  },
  {
   "cell_type": "code",
   "execution_count": 60,
   "id": "da7846f3-cf22-4670-85b8-75096267c67e",
   "metadata": {},
   "outputs": [
    {
     "name": "stdout",
     "output_type": "stream",
     "text": [
      "['pthon', 'data science']\n"
     ]
    }
   ],
   "source": [
    "empty_list.append(\"pthon\")\n",
    "empty_list.append(\"data science\")\n",
    "print(empty_list)                  "
   ]
  },
  {
   "cell_type": "code",
   "execution_count": 61,
   "id": "5ef3253b-3873-481c-b9b8-a98e90be1ccb",
   "metadata": {},
   "outputs": [
    {
     "name": "stdout",
     "output_type": "stream",
     "text": [
      "['H', 'e', 'l', 'l', 'o']\n"
     ]
    }
   ],
   "source": [
    "letters = list(\"Hello\")\n",
    "print(letters)"
   ]
  },
  {
   "cell_type": "code",
   "execution_count": 66,
   "id": "5e9366e3-e00c-40c4-a194-624e7671fa78",
   "metadata": {},
   "outputs": [
    {
     "name": "stdout",
     "output_type": "stream",
     "text": [
      "[1, 2, 3, 4]\n"
     ]
    }
   ],
   "source": [
    "letters = list((1, 2 ,3 ,4))\n",
    "print(numbers)               "
   ]
  },
  {
   "cell_type": "code",
   "execution_count": 67,
   "id": "e73317a4-ca2a-4645-b00e-2b428f0ca8d3",
   "metadata": {},
   "outputs": [
    {
     "name": "stdout",
     "output_type": "stream",
     "text": [
      "[1, 2, 3, 4, 5]\n"
     ]
    }
   ],
   "source": [
    "numbers = list(range(1, 6))\n",
    "print(numbers)\n"
   ]
  },
  {
   "cell_type": "code",
   "execution_count": null,
   "id": "c92fd843-e4fd-46f1-904d-3f0300e40658",
   "metadata": {},
   "outputs": [],
   "source": [
    "#list indexing"
   ]
  },
  {
   "cell_type": "code",
   "execution_count": 69,
   "id": "35e7b407-25e9-412e-8d8b-8ee89ab09975",
   "metadata": {},
   "outputs": [
    {
     "data": {
      "text/plain": [
       "10"
      ]
     },
     "execution_count": 69,
     "metadata": {},
     "output_type": "execute_result"
    }
   ],
   "source": [
    "list2[0]"
   ]
  },
  {
   "cell_type": "code",
   "execution_count": 74,
   "id": "d3eb3471-b726-4d5c-8dd9-38f6bd2cb8f4",
   "metadata": {},
   "outputs": [
    {
     "name": "stdout",
     "output_type": "stream",
     "text": [
      "orange\n",
      "mango\n",
      "cherry\n",
      "banana\n",
      "apple\n"
     ]
    }
   ],
   "source": [
    "fruits = [\"apple\",\"banana\",\"cherry\",\"mango\",\"orange\"]\n",
    "print(fruits[-1])  \n",
    "print(fruits[-2])  \n",
    "print(fruits[-3])  \n",
    "print(fruits[-4]) \n",
    "print(fruits[-5])"
   ]
  },
  {
   "cell_type": "code",
   "execution_count": 77,
   "id": "776905fa-0c3b-4078-aaec-b73d470877cf",
   "metadata": {},
   "outputs": [
    {
     "name": "stdout",
     "output_type": "stream",
     "text": [
      "apple orange\n",
      "banana mango\n"
     ]
    }
   ],
   "source": [
    "fruits = [\"apple\", \"banana\", \"cherry\", \"mango\", \"orange\"]\n",
    "print(fruits[0], fruits[-1])\n",
    "print(fruits[1], fruits[-2])"
   ]
  },
  {
   "cell_type": "code",
   "execution_count": null,
   "id": "d651a96c-fa2f-4691-bed9-bf17343b423a",
   "metadata": {},
   "outputs": [],
   "source": [
    "#list slicing"
   ]
  },
  {
   "cell_type": "code",
   "execution_count": 78,
   "id": "36ab8389-9305-4594-adb8-14fcfe69051a",
   "metadata": {},
   "outputs": [
    {
     "name": "stdout",
     "output_type": "stream",
     "text": [
      "['banana', 'cherry', 'mango']\n"
     ]
    }
   ],
   "source": [
    "print(fruits[1:4])\n"
   ]
  },
  {
   "cell_type": "code",
   "execution_count": 81,
   "id": "732d7091-f55c-4dd6-9cbc-548ca33e7173",
   "metadata": {},
   "outputs": [
    {
     "name": "stdout",
     "output_type": "stream",
     "text": [
      "['apple', 'banana', 'cherry']\n"
     ]
    }
   ],
   "source": [
    "print(fruits[:3])"
   ]
  },
  {
   "cell_type": "code",
   "execution_count": 82,
   "id": "4349f2cd-886a-4600-9c86-02534df350fe",
   "metadata": {},
   "outputs": [
    {
     "name": "stdout",
     "output_type": "stream",
     "text": [
      "['cherry', 'mango', 'orange']\n"
     ]
    }
   ],
   "source": [
    "print(fruits[2:])"
   ]
  },
  {
   "cell_type": "code",
   "execution_count": 83,
   "id": "d0a47946-c64d-4d67-af41-622ea84994ba",
   "metadata": {},
   "outputs": [
    {
     "name": "stdout",
     "output_type": "stream",
     "text": [
      "['apple', 'banana', 'cherry', 'mango', 'orange']\n"
     ]
    }
   ],
   "source": [
    "copy_list = fruits[:]\n",
    "print(copy_list)"
   ]
  },
  {
   "cell_type": "code",
   "execution_count": 84,
   "id": "b00a0081-8095-4760-955d-be8e0c486b82",
   "metadata": {},
   "outputs": [
    {
     "name": "stdout",
     "output_type": "stream",
     "text": [
      "['banana', 'cherry', 'mango']\n"
     ]
    }
   ],
   "source": [
    "print(fruits[-4:-1])"
   ]
  },
  {
   "cell_type": "code",
   "execution_count": 85,
   "id": "f121c28b-fd97-4e3e-83be-c5675bd122cd",
   "metadata": {},
   "outputs": [
    {
     "name": "stdout",
     "output_type": "stream",
     "text": [
      "['banana', 'mango']\n"
     ]
    }
   ],
   "source": [
    "nested = [\n",
    "    [\"red\",\"green\",\"blue\",\"yellow\"],\n",
    "    [\"apple\", \"banana\", \"mango\", \"orange\"]\n",
    "]\n",
    "\n",
    "print(nested[1][1:3])"
   ]
  },
  {
   "cell_type": "code",
   "execution_count": null,
   "id": "ec72f591-2a9a-4287-afad-dc18a836dbc5",
   "metadata": {},
   "outputs": [],
   "source": [
    "#Add, Remove,& change iteam"
   ]
  },
  {
   "cell_type": "code",
   "execution_count": 87,
   "id": "b35c2dc8-3351-46db-9f39-13566925de24",
   "metadata": {},
   "outputs": [
    {
     "name": "stdout",
     "output_type": "stream",
     "text": [
      "[10, 20, 30, 40, 50]\n"
     ]
    }
   ],
   "source": [
    "numbers = [10,20,30,40,50]\n",
    "print(numbers)"
   ]
  },
  {
   "cell_type": "code",
   "execution_count": 89,
   "id": "4aa28d70-7dc5-4ab6-95d4-0dabb1cacfe3",
   "metadata": {},
   "outputs": [
    {
     "name": "stdout",
     "output_type": "stream",
     "text": [
      "[10, 20, 30, 40, 50, 60]\n"
     ]
    }
   ],
   "source": [
    "numbers.append(60)\n",
    "print(numbers)"
   ]
  },
  {
   "cell_type": "code",
   "execution_count": 90,
   "id": "7a002833-17bb-4563-bd5c-0d114060e706",
   "metadata": {},
   "outputs": [
    {
     "name": "stdout",
     "output_type": "stream",
     "text": [
      "[10, 20, 25, 30, 40, 50, 60]\n"
     ]
    }
   ],
   "source": [
    "numbers.insert(2, 25)\n",
    "print(numbers)"
   ]
  },
  {
   "cell_type": "code",
   "execution_count": 93,
   "id": "fcaabe4d-1830-4b92-9806-7b8819041f2f",
   "metadata": {},
   "outputs": [
    {
     "name": "stdout",
     "output_type": "stream",
     "text": [
      "[10, 20, 25, 30, 40, 50, 60, 70, 80, 90]\n"
     ]
    }
   ],
   "source": [
    "numbers.extend([70, 80, 90])\n",
    "print(numbers)"
   ]
  },
  {
   "cell_type": "code",
   "execution_count": 95,
   "id": "73450b31-3e68-491a-b651-11fddaacf68f",
   "metadata": {},
   "outputs": [
    {
     "name": "stdout",
     "output_type": "stream",
     "text": [
      "[10, 20, 30, 40, 50, 60, 70, 80, 90]\n"
     ]
    }
   ],
   "source": [
    "numbers.remove(25)\n",
    "print(numbers)"
   ]
  },
  {
   "cell_type": "code",
   "execution_count": 96,
   "id": "8a742692-13f9-4f99-bb4a-307ca38821f0",
   "metadata": {},
   "outputs": [
    {
     "name": "stdout",
     "output_type": "stream",
     "text": [
      "[10, 20, 30, 50, 60, 70, 80, 90]\n"
     ]
    }
   ],
   "source": [
    "numbers.pop(3)\n",
    "print(numbers)"
   ]
  },
  {
   "cell_type": "code",
   "execution_count": 98,
   "id": "93d62634-aaf7-4397-a2b6-e9497795055c",
   "metadata": {},
   "outputs": [
    {
     "name": "stdout",
     "output_type": "stream",
     "text": [
      "[10, 25, 30, 50, 60, 70, 80, 90]\n"
     ]
    }
   ],
   "source": [
    "numbers[1] = 25\n",
    "print(numbers)"
   ]
  },
  {
   "cell_type": "code",
   "execution_count": 101,
   "id": "ba9292de-4177-42bc-952b-653238cb1bf3",
   "metadata": {},
   "outputs": [
    {
     "name": "stdout",
     "output_type": "stream",
     "text": [
      "[10, 25, 35, 45, 60, 70, 80, 90]\n"
     ]
    }
   ],
   "source": [
    "numbers[2:4] = [35,45]\n",
    "print(numbers)"
   ]
  },
  {
   "cell_type": "code",
   "execution_count": 107,
   "id": "f1645583-6247-49b6-b72e-2d75b0fc19b2",
   "metadata": {},
   "outputs": [
    {
     "name": "stdout",
     "output_type": "stream",
     "text": [
      "numbers: [99, 25, 35, 45, 60, 70, 80, 90]\n",
      "new_list: [99, 25, 35, 45, 60, 70, 80, 90]\n"
     ]
    }
   ],
   "source": [
    "new_list = numbers\n",
    "new_list[0] = 99\n",
    "print(\"numbers:\",numbers)\n",
    "print(\"new_list:\", new_list)"
   ]
  },
  {
   "cell_type": "code",
   "execution_count": 109,
   "id": "085cdbbc-b61f-4e4e-8454-94092c1015f8",
   "metadata": {},
   "outputs": [
    {
     "name": "stdout",
     "output_type": "stream",
     "text": [
      "[10, 30, 60]\n"
     ]
    }
   ],
   "source": [
    "combined = list1 + list2\n",
    "print(combined)"
   ]
  },
  {
   "cell_type": "code",
   "execution_count": 110,
   "id": "e1b9d431-0f63-4971-8a36-167d8ea850bc",
   "metadata": {},
   "outputs": [
    {
     "name": "stdout",
     "output_type": "stream",
     "text": [
      "[10, 30, 60, 70, 80, 90]\n"
     ]
    }
   ],
   "source": [
    "list3 = [70, 80, 90]\n",
    "all_lists = list1 + list2 + list3\n",
    "print(all_lists)"
   ]
  },
  {
   "cell_type": "code",
   "execution_count": 111,
   "id": "7d74f0b7-d6c8-4986-8a8d-b27f35d47a60",
   "metadata": {},
   "outputs": [
    {
     "name": "stdout",
     "output_type": "stream",
     "text": [
      "False\n",
      "False\n"
     ]
    }
   ],
   "source": [
    "print(20 in numbers)\n",
    "print(100 in numbers)"
   ]
  },
  {
   "cell_type": "code",
   "execution_count": 113,
   "id": "6fbe24ac-f65a-4541-8e35-304ada0e8e47",
   "metadata": {},
   "outputs": [
    {
     "name": "stdout",
     "output_type": "stream",
     "text": [
      "False\n",
      "True\n"
     ]
    }
   ],
   "source": [
    "print(60 not in numbers)\n",
    "print(30 not in numbers)\n"
   ]
  },
  {
   "cell_type": "code",
   "execution_count": null,
   "id": "a674c736-8a9c-45b1-8009-a6701f2f2f59",
   "metadata": {},
   "outputs": [],
   "source": [
    "#list  membership"
   ]
  },
  {
   "cell_type": "raw",
   "id": "d7acd8fd-14cc-4724-b36b-189cec31bc10",
   "metadata": {},
   "source": [
    " eval in input"
   ]
  },
  {
   "cell_type": "code",
   "execution_count": 3,
   "id": "38e0d4fa-035f-49cd-8c13-3c5f94b6c0ba",
   "metadata": {},
   "outputs": [
    {
     "name": "stdin",
     "output_type": "stream",
     "text": [
      "enter the string 4+5+4-3\n"
     ]
    },
    {
     "name": "stdout",
     "output_type": "stream",
     "text": [
      "10\n"
     ]
    }
   ],
   "source": [
    "st =eval(input('enter the string'))\n",
    "print(st)"
   ]
  },
  {
   "cell_type": "code",
   "execution_count": null,
   "id": "67f8de60-053a-496d-b578-6fe19b3eb208",
   "metadata": {},
   "outputs": [],
   "source": [
    "Numpy (Numerical python)\n",
    "pkg - collection of function\n"
   ]
  },
  {
   "cell_type": "markdown",
   "id": "05544ee1-e29d-4b94-9243-b194b48a0458",
   "metadata": {},
   "source": [
    "forword index"
   ]
  },
  {
   "cell_type": "code",
   "execution_count": 2,
   "id": "e4fa3d26-2e4f-4dfd-83c9-da9e1070e85e",
   "metadata": {},
   "outputs": [
    {
     "name": "stdout",
     "output_type": "stream",
     "text": [
      "5\n",
      "10\n",
      "15\n",
      "20\n",
      "25\n"
     ]
    }
   ],
   "source": [
    "numbers = [5, 10, 15, 20, 25]\n",
    "print(numbers[0])\n",
    "print(numbers[1])\n",
    "print(numbers[2])\n",
    "print(numbers[3])\n",
    "print(numbers[4])"
   ]
  },
  {
   "cell_type": "code",
   "execution_count": 3,
   "id": "e0ae4b48-85f4-4b84-beca-9b6b972d3757",
   "metadata": {},
   "outputs": [
    {
     "name": "stdout",
     "output_type": "stream",
     "text": [
      "First mark: 45\n",
      "Third mark: 89\n",
      "Last mark: 54\n"
     ]
    }
   ],
   "source": [
    "marks = [45, 67, 89, 90, 76, 54]\n",
    "print(\"First mark:\", marks[0])\n",
    "print(\"Third mark:\", marks[2])\n",
    "print(\"Last mark:\", marks[5])\n"
   ]
  },
  {
   "cell_type": "code",
   "execution_count": 4,
   "id": "83feb804-814b-4b00-ae4b-be23dabe17ae",
   "metadata": {},
   "outputs": [
    {
     "name": "stdout",
     "output_type": "stream",
     "text": [
      "3\n",
      "20\n",
      "4\n"
     ]
    }
   ],
   "source": [
    "digits = [1, 2, 3, 4, 5, 6, 7]\n",
    "print(digits[0] + digits[1])  \n",
    "print(digits[3] * digits[4])  \n",
    "print(digits[6] - digits[2])  \n"
   ]
  },
  {
   "cell_type": "code",
   "execution_count": 7,
   "id": "f0f28972-aedb-4ad6-ac1f-1ac83b6e994b",
   "metadata": {},
   "outputs": [
    {
     "name": "stdout",
     "output_type": "stream",
     "text": [
      "2\n",
      "6\n",
      "12\n"
     ]
    }
   ],
   "source": [
    "even_numbers = [2, 4, 6, 8, 10, 12, 14]\n",
    "print(even_numbers[0])\n",
    "print(even_numbers[2])\n",
    "print(even_numbers[5])"
   ]
  },
  {
   "cell_type": "code",
   "execution_count": 9,
   "id": "eb19cd95-7c37-4ea6-a533-65a029e5ae54",
   "metadata": {},
   "outputs": [
    {
     "name": "stdout",
     "output_type": "stream",
     "text": [
      "index 0 value 2\n",
      "index 1 value 4\n",
      "index 2 value 6\n",
      "index 3 value 8\n",
      "index 4 value 10\n"
     ]
    }
   ],
   "source": [
    "numbers = [2, 4, 6, 8, 10]\n",
    "\n",
    "for i in range(len(numbers)):\n",
    "    print(f\"index {i} value {numbers[i]}\")"
   ]
  },
  {
   "cell_type": "markdown",
   "id": "24972108-a9b3-467d-af58-ec8c2e75bbb2",
   "metadata": {},
   "source": [
    "backword indesx"
   ]
  },
  {
   "cell_type": "code",
   "execution_count": 15,
   "id": "be32b034-7b80-4a2d-83f5-58aa883583fb",
   "metadata": {},
   "outputs": [
    {
     "name": "stdout",
     "output_type": "stream",
     "text": [
      "50\n",
      "40\n",
      "30\n",
      "20\n",
      "10\n"
     ]
    }
   ],
   "source": [
    "numbers = [10, 20, 30, 40, 50]\n",
    "\n",
    "print(numbers[-1])\n",
    "print(numbers[-2])\n",
    "print(numbers[-3])\n",
    "print(numbers[-4])\n",
    "print(numbers[-5])"
   ]
  },
  {
   "cell_type": "code",
   "execution_count": 16,
   "id": "08e2ed02-29f2-4b57-ad78-2ab9e3a188f8",
   "metadata": {},
   "outputs": [
    {
     "name": "stdout",
     "output_type": "stream",
     "text": [
      "Last mark: 54\n",
      "Second last mark: 76\n",
      "Third last mark: 90\n"
     ]
    }
   ],
   "source": [
    "marks = [45, 67, 89, 90, 76, 54]\n",
    "print(\"Last mark:\", marks[-1])       \n",
    "print(\"Second last mark:\", marks[-2]) \n",
    "print(\"Third last mark:\", marks[-3])  \n"
   ]
  },
  {
   "cell_type": "code",
   "execution_count": 18,
   "id": "4e65be3a-8204-4d39-9d47-f975c0691ad2",
   "metadata": {},
   "outputs": [
    {
     "name": "stdout",
     "output_type": "stream",
     "text": [
      "7\n",
      "4\n",
      "1\n"
     ]
    }
   ],
   "source": [
    "digits = [1, 2, 3, 4, 5, 6, 7]\n",
    "print(digits[-1])\n",
    "print(digits[-4])\n",
    "print(digits[-7])"
   ]
  },
  {
   "cell_type": "code",
   "execution_count": 19,
   "id": "82020870-a3d9-402b-8d72-6d97ae6fc923",
   "metadata": {},
   "outputs": [
    {
     "name": "stdout",
     "output_type": "stream",
     "text": [
      "Element at index -2 is: 44\n"
     ]
    }
   ],
   "source": [
    "nums = [11, 22, 33, 44, 55]\n",
    "index = -2\n",
    "print(\"Element at index\", index, \"is:\", nums[index])  \n"
   ]
  },
  {
   "cell_type": "code",
   "execution_count": 20,
   "id": "2875d8a1-b67e-482e-bcf8-11646a5a581e",
   "metadata": {},
   "outputs": [
    {
     "name": "stdout",
     "output_type": "stream",
     "text": [
      "14\n",
      "10\n",
      "6\n"
     ]
    }
   ],
   "source": [
    "even_numbers = [2, 4, 6, 8, 10, 12, 14]\n",
    "print(even_numbers[-1])  \n",
    "print(even_numbers[-3])  \n",
    "print(even_numbers[-5])  \n"
   ]
  },
  {
   "cell_type": "markdown",
   "id": "a8d06d6b-6623-480b-a638-2ccd8a8665e9",
   "metadata": {},
   "source": [
    "step index"
   ]
  },
  {
   "cell_type": "code",
   "execution_count": 21,
   "id": "fc5e9c73-9399-4e34-aa6c-2007d2839adc",
   "metadata": {},
   "outputs": [
    {
     "name": "stdout",
     "output_type": "stream",
     "text": [
      "[10, 30, 50, 70]\n",
      "[10, 40, 70]\n",
      "[20, 40, 60]\n"
     ]
    }
   ],
   "source": [
    "numbers = [10, 20, 30, 40, 50, 60, 70]\n",
    "print(numbers[::2])\n",
    "print(numbers[::3])\n",
    "print(numbers[1::2])"
   ]
  },
  {
   "cell_type": "code",
   "execution_count": 22,
   "id": "2fe67d7c-8a13-4290-bff8-8f06431287a5",
   "metadata": {},
   "outputs": [
    {
     "name": "stdout",
     "output_type": "stream",
     "text": [
      "[10, 20, 30]\n",
      "[5, 20, 35]\n"
     ]
    }
   ],
   "source": [
    "nums = [5, 10, 15, 20, 25, 30, 35, 40]\n",
    "print(nums[1:7:2])\n",
    "print(nums[0:8:3])"
   ]
  },
  {
   "cell_type": "code",
   "execution_count": 23,
   "id": "6c9950b0-cb36-407a-9c5a-5c76c1012b9b",
   "metadata": {},
   "outputs": [
    {
     "name": "stdout",
     "output_type": "stream",
     "text": [
      "[7, 6, 5, 4, 3, 2, 1]\n",
      "[7, 5, 3, 1]\n",
      "[6, 5, 4, 3]\n"
     ]
    }
   ],
   "source": [
    "values = [1, 2, 3, 4, 5, 6, 7]\n",
    "print(values[::-1])\n",
    "print(values[::-2])\n",
    "print(values[5:1:-1])"
   ]
  },
  {
   "cell_type": "code",
   "execution_count": 24,
   "id": "af7a5a4f-75a4-4677-ba12-03f2921a1684",
   "metadata": {},
   "outputs": [
    {
     "name": "stdout",
     "output_type": "stream",
     "text": [
      "[2, 8, 14]\n",
      "[4, 8, 12]\n"
     ]
    }
   ],
   "source": [
    "even_numbers = [2, 4, 6, 8, 10, 12, 14, 16]\n",
    "print(even_numbers[::3])   \n",
    "print(even_numbers[1:7:2]) \n"
   ]
  },
  {
   "cell_type": "markdown",
   "id": "2df46c78-2fd4-4e5f-9349-18ac9e722353",
   "metadata": {},
   "source": [
    "Tuple"
   ]
  },
  {
   "cell_type": "code",
   "execution_count": 25,
   "id": "0513272a-4613-4f2b-80ad-0f2008e02872",
   "metadata": {},
   "outputs": [
    {
     "name": "stdout",
     "output_type": "stream",
     "text": [
      "(10, 20, 30, 40, 50)\n"
     ]
    }
   ],
   "source": [
    "numbers = (10, 20, 30, 40, 50)\n",
    "print(numbers)"
   ]
  },
  {
   "cell_type": "code",
   "execution_count": 27,
   "id": "3fcbb5a8-9dc3-4bdf-b2f2-b0af9d5f5739",
   "metadata": {},
   "outputs": [
    {
     "name": "stdout",
     "output_type": "stream",
     "text": [
      "('Mayur', 21, 5.9, True)\n"
     ]
    }
   ],
   "source": [
    "info = (\"Mayur\", 21, 5.9, True)\n",
    "print(info)"
   ]
  },
  {
   "cell_type": "code",
   "execution_count": 28,
   "id": "97191259-f905-4f3a-ac51-d0797e435892",
   "metadata": {},
   "outputs": [
    {
     "name": "stdout",
     "output_type": "stream",
     "text": [
      "(20, 30, 40)\n",
      "(10, 20, 30)\n",
      "(10, 30, 50)\n"
     ]
    }
   ],
   "source": [
    "numbers = (10, 20, 30, 40, 50, 60)\n",
    "print(numbers[1:4])\n",
    "print(numbers[:3])\n",
    "print(numbers[::2])"
   ]
  },
  {
   "cell_type": "code",
   "execution_count": 29,
   "id": "bb0c5ca7-f32a-40b9-b0b0-54d4096d672c",
   "metadata": {},
   "outputs": [
    {
     "name": "stdout",
     "output_type": "stream",
     "text": [
      "4\n"
     ]
    }
   ],
   "source": [
    "numbers = (5, 10, 15, 20)\n",
    "print(len(numbers))"
   ]
  },
  {
   "cell_type": "code",
   "execution_count": 32,
   "id": "4fcc8c51-e0a4-4174-96d9-ab1e76943a37",
   "metadata": {},
   "outputs": [
    {
     "name": "stdout",
     "output_type": "stream",
     "text": [
      "(1, 2, 3, 4, 5, 6)\n"
     ]
    }
   ],
   "source": [
    "tuple1 = (1, 2, 3)\n",
    "tuple2 = (4, 5, 6)\n",
    "result = tuple1 + tuple2\n",
    "print(result)  \n"
   ]
  },
  {
   "cell_type": "code",
   "execution_count": 34,
   "id": "6ac7468e-2045-4942-a07b-7829b2357496",
   "metadata": {},
   "outputs": [
    {
     "name": "stdout",
     "output_type": "stream",
     "text": [
      "2\n",
      "3\n"
     ]
    }
   ],
   "source": [
    "numbers = (1, 2, 3, 4, 2, 5)\n",
    "print(numbers.count(2))\n",
    "print(numbers.index(4))"
   ]
  },
  {
   "cell_type": "markdown",
   "id": "633e65d9-e0f0-4039-b581-7852bbf965a6",
   "metadata": {},
   "source": [
    "Set & Dictionary"
   ]
  },
  {
   "cell_type": "code",
   "execution_count": 36,
   "id": "92e830c1-7a1d-40e5-a886-400ce3d876eb",
   "metadata": {},
   "outputs": [
    {
     "name": "stdout",
     "output_type": "stream",
     "text": [
      "{50, 20, 40, 10, 30}\n"
     ]
    }
   ],
   "source": [
    "numbers = {10, 20, 30, 40, 50}\n",
    "print(numbers)"
   ]
  },
  {
   "cell_type": "code",
   "execution_count": 37,
   "id": "8f03e56d-4dfc-4a59-92a6-5b436f977fb0",
   "metadata": {},
   "outputs": [
    {
     "name": "stdout",
     "output_type": "stream",
     "text": [
      "{1, 2, 3, 4, 5}\n"
     ]
    }
   ],
   "source": [
    "my_set = {1, 2, 2, 3, 4, 4, 5}\n",
    "print(my_set)"
   ]
  },
  {
   "cell_type": "code",
   "execution_count": 48,
   "id": "a1a5e9b1-a0f6-4aca-a5cc-4dd3b0087df1",
   "metadata": {},
   "outputs": [
    {
     "name": "stdout",
     "output_type": "stream",
     "text": [
      "union: {1, 2, 3, 4, 5, 6}\n",
      "intersection: {3, 4, 5}\n",
      "difference: {1, 2}\n",
      "symentric diff: {1, 2, 6}\n"
     ]
    }
   ],
   "source": [
    "a = {1, 2, 3, 4, 5}\n",
    "b = {3, 4, 5, 6}\n",
    "\n",
    "print(\"union:\", a| b)\n",
    "print(\"intersection:\",a & b)\n",
    "print(\"difference:\", a - b)\n",
    "print(\"symentric diff:\", a ^ b)"
   ]
  },
  {
   "cell_type": "code",
   "execution_count": 42,
   "id": "af91324c-9f80-4888-892d-1ea7fd832ed8",
   "metadata": {},
   "outputs": [
    {
     "name": "stdout",
     "output_type": "stream",
     "text": [
      "{1, 2, 3, 4}\n"
     ]
    }
   ],
   "source": [
    "nums = [1, 2, 2, 3, 4, 4]\n",
    "unique = set(nums)\n",
    "print(unique)"
   ]
  },
  {
   "cell_type": "code",
   "execution_count": 49,
   "id": "18da988a-b809-4e3e-b4c2-2a2e63e0bc7c",
   "metadata": {},
   "outputs": [
    {
     "name": "stdout",
     "output_type": "stream",
     "text": [
      "{3, 4, 5}\n",
      "{3, 4, 5}\n"
     ]
    }
   ],
   "source": [
    "print(a & b)\n",
    "print(a.intersection(b))"
   ]
  },
  {
   "cell_type": "code",
   "execution_count": 47,
   "id": "ad82440f-eded-4ed4-aac9-e6f3b77d090a",
   "metadata": {},
   "outputs": [
    {
     "name": "stdout",
     "output_type": "stream",
     "text": [
      "{1, 2}\n",
      "{1, 2}\n"
     ]
    }
   ],
   "source": [
    "print(a - b)\n",
    "print(a.difference(b))"
   ]
  },
  {
   "cell_type": "code",
   "execution_count": 54,
   "id": "45b31770-6442-4a02-bf02-6da2d007c34a",
   "metadata": {},
   "outputs": [
    {
     "name": "stdout",
     "output_type": "stream",
     "text": [
      "{1, 2, 6}\n",
      "{1, 2, 6}\n"
     ]
    }
   ],
   "source": [
    "print(a ^ b)\n",
    "print(a.symmetric_difference(b))"
   ]
  },
  {
   "cell_type": "code",
   "execution_count": 55,
   "id": "5d44a1a7-d458-4c59-ad46-dbfa2fd382cb",
   "metadata": {},
   "outputs": [
    {
     "name": "stdout",
     "output_type": "stream",
     "text": [
      "True\n",
      "False\n"
     ]
    }
   ],
   "source": [
    "x = {1, 2, 3}\n",
    "y = {1, 2, 3, 4, 5}\n",
    "print(x.issubset(y))\n",
    "print(y.issubset(x))"
   ]
  },
  {
   "cell_type": "code",
   "execution_count": 56,
   "id": "188358f2-3851-4ffd-8e80-169687d76544",
   "metadata": {},
   "outputs": [
    {
     "name": "stdout",
     "output_type": "stream",
     "text": [
      "True\n",
      "False\n"
     ]
    }
   ],
   "source": [
    "print(y.issuperset(x))\n",
    "print(x.issuperset(y))"
   ]
  },
  {
   "cell_type": "markdown",
   "id": "0d9e8bf5-44f3-4060-ab36-be8eb821a20c",
   "metadata": {},
   "source": [
    "Math module"
   ]
  },
  {
   "cell_type": "code",
   "execution_count": 57,
   "id": "0b063891-4615-428f-b382-53c2501ff17a",
   "metadata": {},
   "outputs": [
    {
     "name": "stdout",
     "output_type": "stream",
     "text": [
      "3.141592653589793\n",
      "2.718281828459045\n"
     ]
    }
   ],
   "source": [
    "import math\n",
    "\n",
    "print(math.pi)\n",
    "print(math.e)"
   ]
  },
  {
   "cell_type": "code",
   "execution_count": 59,
   "id": "de398615-a1ed-4a78-a46a-b76373a00a5a",
   "metadata": {},
   "outputs": [
    {
     "name": "stdout",
     "output_type": "stream",
     "text": [
      "5\n",
      "4\n",
      "4\n"
     ]
    }
   ],
   "source": [
    "print(math.ceil(4.3))\n",
    "print(math.floor(4.8))\n",
    "print(round(4.5))"
   ]
  },
  {
   "cell_type": "code",
   "execution_count": 63,
   "id": "50cfd280-80e4-4de6-8e70-d3d64e4cd44f",
   "metadata": {},
   "outputs": [
    {
     "name": "stdout",
     "output_type": "stream",
     "text": [
      "5.0\n",
      "1.4142135623730951\n"
     ]
    }
   ],
   "source": [
    "print(math.sqrt(25))\n",
    "print(math.sqrt(2))      "
   ]
  },
  {
   "cell_type": "code",
   "execution_count": 64,
   "id": "61f7c222-dee8-4bba-b8d2-03347e1b4021",
   "metadata": {},
   "outputs": [
    {
     "name": "stdout",
     "output_type": "stream",
     "text": [
      "8.0\n",
      "8\n",
      "2.718281828459045\n"
     ]
    }
   ],
   "source": [
    "print(math.pow(2, 3))\n",
    "print(2 ** 3)\n",
    "print(math.exp(1))"
   ]
  },
  {
   "cell_type": "code",
   "execution_count": 65,
   "id": "4fa192b6-a05f-429c-8a32-a8a94bf7704a",
   "metadata": {},
   "outputs": [
    {
     "name": "stdout",
     "output_type": "stream",
     "text": [
      "2.302585092994046\n",
      "2.0\n",
      "3.0\n"
     ]
    }
   ],
   "source": [
    "print(math.log(10))\n",
    "print(math.log10(100))\n",
    "print(math.log2(8))"
   ]
  },
  {
   "cell_type": "code",
   "execution_count": 66,
   "id": "d6e3d4dd-5cda-4f97-b968-a38932bd9347",
   "metadata": {},
   "outputs": [
    {
     "name": "stdout",
     "output_type": "stream",
     "text": [
      "2.0\n"
     ]
    }
   ],
   "source": [
    "print(math.fmod(17, 5))"
   ]
  },
  {
   "cell_type": "code",
   "execution_count": 67,
   "id": "92551fe9-c3ad-4a2a-a5ef-8fb6d27b698b",
   "metadata": {},
   "outputs": [
    {
     "name": "stdout",
     "output_type": "stream",
     "text": [
      "7\n",
      "7.0\n",
      "120\n"
     ]
    }
   ],
   "source": [
    "print(abs(-7))\n",
    "print(math.fabs(-7))\n",
    "print(math.factorial(5))"
   ]
  },
  {
   "cell_type": "markdown",
   "id": "b86f495d-b10e-4325-b494-e2d66088c07a",
   "metadata": {},
   "source": [
    "Fine To Dine"
   ]
  },
  {
   "cell_type": "code",
   "execution_count": 69,
   "id": "114f5cd4-1d66-4e5a-993c-233dc1760d51",
   "metadata": {},
   "outputs": [
    {
     "name": "stdout",
     "output_type": "stream",
     "text": [
      "everything is dine\n"
     ]
    }
   ],
   "source": [
    "text = \"everything is fine\"\n",
    "new_text = text.replace(\"fine\", \"dine\")\n",
    "print(new_text)"
   ]
  },
  {
   "cell_type": "code",
   "execution_count": 70,
   "id": "bd0b76a6-18c8-420a-a3b3-947e20767283",
   "metadata": {},
   "outputs": [
    {
     "name": "stdout",
     "output_type": "stream",
     "text": [
      "dine day, dine weather, dine people\n"
     ]
    }
   ],
   "source": [
    "sentance =  \"fine day, fine weather, fine people\"\n",
    "new_sentance = sentance.replace(\"fine\", \"dine\")\n",
    "print(new_sentance)"
   ]
  },
  {
   "cell_type": "code",
   "execution_count": 71,
   "id": "e27b1c8a-a1e5-4088-963d-2e03e65472b5",
   "metadata": {},
   "outputs": [
    {
     "name": "stdout",
     "output_type": "stream",
     "text": [
      "dine and dine\n"
     ]
    }
   ],
   "source": [
    "text = \"fine and fine\"\n",
    "print(text.replace(\"fine\", \"dine\"))"
   ]
  },
  {
   "cell_type": "code",
   "execution_count": 78,
   "id": "35475589-47f0-469a-9624-6c11f6fb79d9",
   "metadata": {},
   "outputs": [
    {
     "name": "stdout",
     "output_type": "stream",
     "text": [
      "True\n",
      "False\n"
     ]
    }
   ],
   "source": [
    "nums = [True, False, True]\n",
    "print(any(nums)) \n",
    "print(all(nums))  \n"
   ]
  },
  {
   "cell_type": "code",
   "execution_count": 79,
   "id": "27654623-06af-4e75-a95a-0b12c548063d",
   "metadata": {},
   "outputs": [
    {
     "name": "stdout",
     "output_type": "stream",
     "text": [
      "0 apple\n",
      "1 banana\n",
      "2 cherry\n"
     ]
    }
   ],
   "source": [
    "fruits = [\"apple\", \"banana\", \"cherry\"]\n",
    "for index, fruit in enumerate(fruits):\n",
    "    print(index, fruit)\n"
   ]
  },
  {
   "cell_type": "code",
   "execution_count": 80,
   "id": "10983abc-9850-4534-a701-dad3092ba0b4",
   "metadata": {},
   "outputs": [
    {
     "name": "stdout",
     "output_type": "stream",
     "text": [
      "[4, 3, 2, 1]\n"
     ]
    }
   ],
   "source": [
    "numbers = [1, 2, 3, 4]\n",
    "print(list(reversed(numbers)))  \n"
   ]
  },
  {
   "cell_type": "code",
   "execution_count": 81,
   "id": "b3b64cec-4342-4652-b66a-59b9c4ac1664",
   "metadata": {},
   "outputs": [
    {
     "name": "stdout",
     "output_type": "stream",
     "text": [
      "Sum: 150\n",
      "Max: 50\n",
      "Min: 10\n",
      "Average: 30.0\n"
     ]
    }
   ],
   "source": [
    "numbers = [10, 20, 30, 40, 50]\n",
    "print(\"Sum:\", sum(numbers))\n",
    "print(\"Max:\", max(numbers))\n",
    "print(\"Min:\", min(numbers))\n",
    "print(\"Average:\", sum(numbers) / len(numbers))\n"
   ]
  },
  {
   "cell_type": "markdown",
   "id": "5472f40e-bc4c-4c29-a34f-66f8e664d04d",
   "metadata": {},
   "source": [
    "swap variable"
   ]
  },
  {
   "cell_type": "code",
   "execution_count": 82,
   "id": "090c6c3f-a0d5-4d09-a2b6-3fcdac52e0da",
   "metadata": {},
   "outputs": [
    {
     "name": "stdout",
     "output_type": "stream",
     "text": [
      "before swapping:\n",
      "a = 5 b = 10\n",
      "after swapping:\n",
      "a = 10 b = 5\n"
     ]
    }
   ],
   "source": [
    "a = 5\n",
    "b = 10\n",
    "\n",
    "print(\"before swapping:\")\n",
    "print(\"a =\", a, \"b =\", b)\n",
    "\n",
    "\n",
    "temp = a\n",
    "a = b\n",
    "b = temp\n",
    "\n",
    "print(\"after swapping:\")\n",
    "print(\"a =\", a, \"b =\", b)\n"
   ]
  },
  {
   "cell_type": "code",
   "execution_count": 83,
   "id": "6e87db1b-72d9-4947-bfbb-f9ba71291aab",
   "metadata": {},
   "outputs": [
    {
     "name": "stdout",
     "output_type": "stream",
     "text": [
      "before: 10 20\n",
      "after: 20 10\n"
     ]
    }
   ],
   "source": [
    "a = 10\n",
    "b = 20\n",
    "\n",
    "print(\"before:\", a, b)\n",
    "\n",
    "a = a + b\n",
    "b = a - b\n",
    "a = a - b\n",
    "\n",
    "print(\"after:\", a, b)"
   ]
  },
  {
   "cell_type": "code",
   "execution_count": 84,
   "id": "7b248e10-19c7-4711-8b26-a23240a1fc03",
   "metadata": {},
   "outputs": [
    {
     "name": "stdout",
     "output_type": "stream",
     "text": [
      "After swap: a = 2 b = 4\n"
     ]
    }
   ],
   "source": [
    "a = 4\n",
    "b = 2\n",
    "\n",
    "a = a * b\n",
    "b = a / b\n",
    "a = a / b\n",
    "\n",
    "print(\"After swap: a =\", int(a), \"b =\", int(b))\n"
   ]
  },
  {
   "cell_type": "code",
   "execution_count": null,
   "id": "e22a6068-b026-44d0-922f-fb0af06fb98a",
   "metadata": {},
   "outputs": [],
   "source": []
  }
 ],
 "metadata": {
  "kernelspec": {
   "display_name": "Python [conda env:base] *",
   "language": "python",
   "name": "conda-base-py"
  },
  "language_info": {
   "codemirror_mode": {
    "name": "ipython",
    "version": 3
   },
   "file_extension": ".py",
   "mimetype": "text/x-python",
   "name": "python",
   "nbconvert_exporter": "python",
   "pygments_lexer": "ipython3",
   "version": "3.13.5"
  }
 },
 "nbformat": 4,
 "nbformat_minor": 5
}
