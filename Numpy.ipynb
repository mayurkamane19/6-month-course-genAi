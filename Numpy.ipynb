{
 "cells": [
  {
   "cell_type": "code",
   "execution_count": null,
   "id": "b99fcd28-bf05-4c89-96d5-d36895f284a1",
   "metadata": {},
   "outputs": [],
   "source": [
    "Numpy (Numerical python)\n",
    "pkg - collection of function\n",
    "function - collection of statement\n",
    "\n",
    "\n",
    "Numpy usages\n",
    "arithmatic operator\n",
    "statastical operator\n",
    "bitwise operator\n",
    "copying & viewing array operator\n",
    "stacking operator\n",
    "matrix operator\n",
    "linear algebra operator\n",
    "broadcasting operator\n",
    "math operation\n",
    "searching ,sorting ,counting\n",
    "\n",
    "array vs vector"
   ]
  },
  {
   "cell_type": "code",
   "execution_count": 3,
   "id": "86909d1d-3477-4253-b8ae-5e7e7225a5c1",
   "metadata": {},
   "outputs": [],
   "source": [
    "import numpy as np"
   ]
  },
  {
   "cell_type": "code",
   "execution_count": 4,
   "id": "c0dcdc6f-4db4-4de1-becd-2cc830a3a31e",
   "metadata": {},
   "outputs": [
    {
     "data": {
      "text/plain": [
       "array([ 0,  1,  2,  3,  4,  5,  6,  7,  8,  9, 10, 11, 12, 13, 14])"
      ]
     },
     "execution_count": 4,
     "metadata": {},
     "output_type": "execute_result"
    }
   ],
   "source": [
    "np.arange(15) "
   ]
  },
  {
   "cell_type": "code",
   "execution_count": 5,
   "id": "b06acf1c-a16d-4415-b441-67676551d41a",
   "metadata": {},
   "outputs": [
    {
     "data": {
      "text/plain": [
       "array([0., 1., 2.])"
      ]
     },
     "execution_count": 5,
     "metadata": {},
     "output_type": "execute_result"
    }
   ],
   "source": [
    "np.arange(3.0)  "
   ]
  },
  {
   "cell_type": "code",
   "execution_count": 7,
   "id": "42574be2-0d78-427c-b6da-93a241e8d180",
   "metadata": {},
   "outputs": [
    {
     "data": {
      "text/plain": [
       "array([0, 1, 2, 3, 4, 5, 6, 7, 8, 9])"
      ]
     },
     "execution_count": 7,
     "metadata": {},
     "output_type": "execute_result"
    }
   ],
   "source": [
    "np.arange(10)"
   ]
  },
  {
   "cell_type": "code",
   "execution_count": 8,
   "id": "088d47a6-18a8-4209-89e4-21597c1296c4",
   "metadata": {},
   "outputs": [
    {
     "data": {
      "text/plain": [
       "array([0, 1, 2, 3, 4])"
      ]
     },
     "execution_count": 8,
     "metadata": {},
     "output_type": "execute_result"
    }
   ],
   "source": [
    "np.arange(0, 5)"
   ]
  },
  {
   "cell_type": "code",
   "execution_count": 9,
   "id": "8be5f2f7-f81a-453e-9c31-48d2a79625ff",
   "metadata": {},
   "outputs": [
    {
     "data": {
      "text/plain": [
       "array([10, 11, 12, 13, 14, 15, 16, 17, 18, 19])"
      ]
     },
     "execution_count": 9,
     "metadata": {},
     "output_type": "execute_result"
    }
   ],
   "source": [
    "np.arange(10,20)"
   ]
  },
  {
   "cell_type": "code",
   "execution_count": 10,
   "id": "57a255ab-021d-4467-a811-606cd4188f1d",
   "metadata": {},
   "outputs": [
    {
     "data": {
      "text/plain": [
       "array([], dtype=int64)"
      ]
     },
     "execution_count": 10,
     "metadata": {},
     "output_type": "execute_result"
    }
   ],
   "source": [
    "np.arange(20,10)"
   ]
  },
  {
   "cell_type": "code",
   "execution_count": null,
   "id": "a612519c-de5b-4a28-b97f-cf18fc31e5f8",
   "metadata": {},
   "outputs": [],
   "source": []
  }
 ],
 "metadata": {
  "kernelspec": {
   "display_name": "Python [conda env:base] *",
   "language": "python",
   "name": "conda-base-py"
  },
  "language_info": {
   "codemirror_mode": {
    "name": "ipython",
    "version": 3
   },
   "file_extension": ".py",
   "mimetype": "text/x-python",
   "name": "python",
   "nbconvert_exporter": "python",
   "pygments_lexer": "ipython3",
   "version": "3.13.5"
  }
 },
 "nbformat": 4,
 "nbformat_minor": 5
}
